{
  "nbformat": 4,
  "nbformat_minor": 0,
  "metadata": {
    "colab": {
      "name": "MNIST_CNN.ipynb",
      "provenance": [],
      "collapsed_sections": [],
      "include_colab_link": true
    },
    "kernelspec": {
      "name": "python3",
      "display_name": "Python 3"
    },
    "accelerator": "GPU"
  },
  "cells": [
    {
      "cell_type": "markdown",
      "metadata": {
        "id": "view-in-github",
        "colab_type": "text"
      },
      "source": [
        "<a href=\"https://colab.research.google.com/github/dwivediparas777/MNIST/blob/master/MNIST_CNN.ipynb\" target=\"_parent\"><img src=\"https://colab.research.google.com/assets/colab-badge.svg\" alt=\"Open In Colab\"/></a>"
      ]
    },
    {
      "cell_type": "markdown",
      "metadata": {
        "id": "dyzavqkIDuDK",
        "colab_type": "text"
      },
      "source": [
        "## Importing Libraries"
      ]
    },
    {
      "cell_type": "code",
      "metadata": {
        "id": "WpO9XX-LD0H3",
        "colab_type": "code",
        "outputId": "407f1508-7418-483e-ee9b-18aeee0bde8e",
        "colab": {
          "base_uri": "https://localhost:8080/",
          "height": 34
        }
      },
      "source": [
        "# Libraries for Visualization\n",
        "import seaborn as sns\n",
        "import matplotlib.pyplot as plt\n",
        "%matplotlib inline\n",
        "\n",
        "# Immporting libraries for basic calculation\n",
        "import numpy as np\n",
        "\n",
        "# Importing deep learing library\n",
        "import keras\n",
        "from keras.datasets import mnist\n",
        "from keras.models import Sequential\n",
        "from keras.layers import Dense, Dropout, Flatten\n",
        "from keras.layers import Conv2D, MaxPooling2D\n",
        "from keras.layers.normalization import BatchNormalization\n",
        "from keras import backend as K\n",
        "\n",
        "# Importing other library\n",
        "import time\n",
        "from __future__ import print_function"
      ],
      "execution_count": 0,
      "outputs": [
        {
          "output_type": "stream",
          "text": [
            "Using TensorFlow backend.\n"
          ],
          "name": "stderr"
        }
      ]
    },
    {
      "cell_type": "code",
      "metadata": {
        "id": "tXgG3xMGEA9l",
        "colab_type": "code",
        "colab": {}
      },
      "source": [
        "# https://stackoverflow.com/a/14434334\n",
        "# this function is used to update the plots for each epoch and error\n",
        "def plt_dynamic(x, vy, ty, ax, colors=['b']):\n",
        "    ax.plot(x, vy, 'b', label=\"Validation Loss\")\n",
        "    ax.plot(x, ty, 'r', label=\"Train Loss\")\n",
        "    plt.legend()\n",
        "    plt.grid()\n",
        "    fig.canvas.draw()"
      ],
      "execution_count": 0,
      "outputs": []
    },
    {
      "cell_type": "markdown",
      "metadata": {
        "id": "uUxMFGleD9oP",
        "colab_type": "text"
      },
      "source": [
        "## Load MNIST dataset with the data shuffled between train and test sets"
      ]
    },
    {
      "cell_type": "code",
      "metadata": {
        "id": "y9kw091fEL4E",
        "colab_type": "code",
        "outputId": "a661b520-e3b3-4bdd-d930-03d907900f46",
        "colab": {
          "base_uri": "https://localhost:8080/",
          "height": 51
        }
      },
      "source": [
        "batch_size = 128\n",
        "num_classes = 10\n",
        "epochs = 12\n",
        "\n",
        "# input image dimensions\n",
        "img_rows, img_cols = 28, 28\n",
        "\n",
        "# the data, split between train and test sets\n",
        "(x_train, y_train), (x_test, y_test) = mnist.load_data()"
      ],
      "execution_count": 0,
      "outputs": [
        {
          "output_type": "stream",
          "text": [
            "Downloading data from https://s3.amazonaws.com/img-datasets/mnist.npz\n",
            "11493376/11490434 [==============================] - 0s 0us/step\n"
          ],
          "name": "stdout"
        }
      ]
    },
    {
      "cell_type": "code",
      "metadata": {
        "id": "H9EU0e8yzFOm",
        "colab_type": "code",
        "outputId": "7c5782f4-8908-41b0-8e22-9504567804e7",
        "colab": {
          "base_uri": "https://localhost:8080/",
          "height": 68
        }
      },
      "source": [
        "if K.image_data_format() == 'channels_first':\n",
        "    x_train = x_train.reshape(x_train.shape[0], 1, img_rows, img_cols)\n",
        "    x_test = x_test.reshape(x_test.shape[0], 1, img_rows, img_cols)\n",
        "    input_shape = (1, img_rows, img_cols)\n",
        "else:\n",
        "    x_train = x_train.reshape(x_train.shape[0], img_rows, img_cols, 1)\n",
        "    x_test = x_test.reshape(x_test.shape[0], img_rows, img_cols, 1)\n",
        "    input_shape = (img_rows, img_cols, 1)\n",
        "\n",
        "x_train = x_train.astype('float32')\n",
        "x_test = x_test.astype('float32')\n",
        "x_train /= 255\n",
        "x_test /= 255\n",
        "print('x_train shape:', x_train.shape)\n",
        "print(x_train.shape[0], 'train samples')\n",
        "print(x_test.shape[0], 'test samples')\n",
        "\n",
        "# convert class vectors to binary class matrices\n",
        "y_train = keras.utils.to_categorical(y_train, num_classes)\n",
        "y_test = keras.utils.to_categorical(y_test, num_classes)"
      ],
      "execution_count": 0,
      "outputs": [
        {
          "output_type": "stream",
          "text": [
            "x_train shape: (60000, 28, 28, 1)\n",
            "60000 train samples\n",
            "10000 test samples\n"
          ],
          "name": "stdout"
        }
      ]
    },
    {
      "cell_type": "markdown",
      "metadata": {
        "id": "r49boNK2ExID",
        "colab_type": "text"
      },
      "source": [
        "# Model Genration 6 Concolution layer with kernel 3X3 "
      ]
    },
    {
      "cell_type": "code",
      "metadata": {
        "id": "Zsw9dBu0EodD",
        "colab_type": "code",
        "outputId": "4037a956-61f5-4127-d1f1-ae4000a783e5",
        "colab": {
          "base_uri": "https://localhost:8080/",
          "height": 459
        }
      },
      "source": [
        "model = Sequential()\n",
        "model.add(Conv2D(32, kernel_size=(3, 3),\n",
        "                 activation='relu',\n",
        "                 input_shape=input_shape))\n",
        "model.add(Conv2D(64, (3, 3), activation='relu'))\n",
        "model.add(Conv2D(128, (3, 3), activation='relu'))\n",
        "model.add(Conv2D(64, (3, 3), activation='relu'))\n",
        "model.add(Conv2D(32, (3, 3), activation='relu'))\n",
        "model.add(Conv2D(32, (3, 3), activation='relu'))\n",
        "model.add(MaxPooling2D(pool_size=(2, 2)))\n",
        "model.add(Dropout(0.25))\n",
        "model.add(Flatten())\n",
        "model.add(Dense(128, activation='relu'))\n",
        "model.add(Dropout(0.5))\n",
        "model.add(Dense(num_classes, activation='softmax'))\n",
        "\n",
        "model.compile(loss=keras.losses.categorical_crossentropy,\n",
        "              optimizer=keras.optimizers.Adadelta(),\n",
        "              metrics=['accuracy'])\n",
        "\n",
        "history = model.fit(x_train, y_train,\n",
        "          batch_size=batch_size,\n",
        "          epochs=epochs,\n",
        "          verbose=1,\n",
        "          validation_data=(x_test, y_test))\n",
        "score = model.evaluate(x_test, y_test, verbose=0)\n",
        "print('Test loss:', score[0])\n",
        "print('Test accuracy:', score[1])"
      ],
      "execution_count": 0,
      "outputs": [
        {
          "output_type": "stream",
          "text": [
            "Train on 60000 samples, validate on 10000 samples\n",
            "Epoch 1/12\n",
            "60000/60000 [==============================] - 838s 14ms/step - loss: 0.3071 - acc: 0.9050 - val_loss: 0.0482 - val_acc: 0.9853\n",
            "Epoch 2/12\n",
            "60000/60000 [==============================] - 837s 14ms/step - loss: 0.0918 - acc: 0.9729 - val_loss: 0.0378 - val_acc: 0.9885\n",
            "Epoch 3/12\n",
            "60000/60000 [==============================] - 834s 14ms/step - loss: 0.0672 - acc: 0.9805 - val_loss: 0.0335 - val_acc: 0.9887\n",
            "Epoch 4/12\n",
            "59904/60000 [============================>.] - ETA: 1s - loss: 0.0556 - acc: 0.9841Epoch 5/12\n",
            "60000/60000 [==============================] - 837s 14ms/step - loss: 0.0476 - acc: 0.9858 - val_loss: 0.0246 - val_acc: 0.9922\n",
            "Epoch 6/12\n",
            "60000/60000 [==============================] - 830s 14ms/step - loss: 0.0427 - acc: 0.9880 - val_loss: 0.0212 - val_acc: 0.9924\n",
            "Epoch 7/12\n",
            "60000/60000 [==============================] - 833s 14ms/step - loss: 0.0389 - acc: 0.9887 - val_loss: 0.0232 - val_acc: 0.9927\n",
            "Epoch 8/12\n",
            "60000/60000 [==============================] - 827s 14ms/step - loss: 0.0372 - acc: 0.9896 - val_loss: 0.0236 - val_acc: 0.9919\n",
            "Epoch 9/12\n",
            "60000/60000 [==============================] - 827s 14ms/step - loss: 0.0317 - acc: 0.9909 - val_loss: 0.0280 - val_acc: 0.9903\n",
            "Epoch 10/12\n",
            "60000/60000 [==============================] - 827s 14ms/step - loss: 0.0294 - acc: 0.9913 - val_loss: 0.0227 - val_acc: 0.9942\n",
            "Epoch 11/12\n",
            "60000/60000 [==============================] - 827s 14ms/step - loss: 0.0294 - acc: 0.9913 - val_loss: 0.0253 - val_acc: 0.9915\n",
            "Epoch 12/12\n",
            "60000/60000 [==============================] - 829s 14ms/step - loss: 0.0261 - acc: 0.9921 - val_loss: 0.0210 - val_acc: 0.9930\n",
            "Test loss: 0.021047636220705317\n",
            "Test accuracy: 0.993\n"
          ],
          "name": "stdout"
        }
      ]
    },
    {
      "cell_type": "code",
      "metadata": {
        "id": "nXRdTzxxJhMC",
        "colab_type": "code",
        "outputId": "45a3aeb4-222f-4d65-9477-77d7472f8b29",
        "colab": {
          "base_uri": "https://localhost:8080/",
          "height": 544
        }
      },
      "source": [
        "model.summary()"
      ],
      "execution_count": 0,
      "outputs": [
        {
          "output_type": "stream",
          "text": [
            "_________________________________________________________________\n",
            "Layer (type)                 Output Shape              Param #   \n",
            "=================================================================\n",
            "conv2d_7 (Conv2D)            (None, 26, 26, 32)        320       \n",
            "_________________________________________________________________\n",
            "conv2d_8 (Conv2D)            (None, 24, 24, 64)        18496     \n",
            "_________________________________________________________________\n",
            "conv2d_9 (Conv2D)            (None, 22, 22, 128)       73856     \n",
            "_________________________________________________________________\n",
            "conv2d_10 (Conv2D)           (None, 20, 20, 64)        73792     \n",
            "_________________________________________________________________\n",
            "conv2d_11 (Conv2D)           (None, 18, 18, 32)        18464     \n",
            "_________________________________________________________________\n",
            "conv2d_12 (Conv2D)           (None, 16, 16, 32)        9248      \n",
            "_________________________________________________________________\n",
            "max_pooling2d_2 (MaxPooling2 (None, 8, 8, 32)          0         \n",
            "_________________________________________________________________\n",
            "dropout_3 (Dropout)          (None, 8, 8, 32)          0         \n",
            "_________________________________________________________________\n",
            "flatten_2 (Flatten)          (None, 2048)              0         \n",
            "_________________________________________________________________\n",
            "dense_3 (Dense)              (None, 128)               262272    \n",
            "_________________________________________________________________\n",
            "dropout_4 (Dropout)          (None, 128)               0         \n",
            "_________________________________________________________________\n",
            "dense_4 (Dense)              (None, 10)                1290      \n",
            "=================================================================\n",
            "Total params: 457,738\n",
            "Trainable params: 457,738\n",
            "Non-trainable params: 0\n",
            "_________________________________________________________________\n"
          ],
          "name": "stdout"
        }
      ]
    },
    {
      "cell_type": "code",
      "metadata": {
        "id": "wazybKhyJhqd",
        "colab_type": "code",
        "outputId": "ef4ab6fc-295e-49d4-8081-568e1d44b74a",
        "colab": {
          "base_uri": "https://localhost:8080/",
          "height": 317
        }
      },
      "source": [
        "score = model.evaluate(x_test, y_test, verbose=0) \n",
        "print('Test score:', score[0]) \n",
        "print('Test accuracy:', score[1])\n",
        "\n",
        "fig,ax = plt.subplots(1,1)\n",
        "ax.set_xlabel('epoch') ; ax.set_ylabel('Categorical Crossentropy Loss')\n",
        "\n",
        "# list of epoch numbers\n",
        "x = list(range(1,12+1))\n",
        "\n",
        "# we will get val_loss and val_acc only when you pass the paramter validation_data\n",
        "# val_loss : validation loss\n",
        "# for each key in histrory.histrory we will have a list of length equal to number of epochs\n",
        "\n",
        "vy = history.history['val_loss']\n",
        "ty = history.history['loss']\n",
        "plt_dynamic(x, vy, ty, ax)    "
      ],
      "execution_count": 0,
      "outputs": [
        {
          "output_type": "stream",
          "text": [
            "Test score: 0.021047636220705317\n",
            "Test accuracy: 0.993\n"
          ],
          "name": "stdout"
        },
        {
          "output_type": "display_data",
          "data": {
            "image/png": "[encoded data removed]",
            "text/plain": [
              "<Figure size 432x288 with 1 Axes>"
            ]
          },
          "metadata": {
            "tags": []
          }
        }
      ]
    },
    {
      "cell_type": "markdown",
      "metadata": {
        "id": "Mcr_j-BnHPOA",
        "colab_type": "text"
      },
      "source": [
        "## Model Genration 6 Concolution layer with kernel 5X5"
      ]
    },
    {
      "cell_type": "code",
      "metadata": {
        "id": "bb3O7UsYYhc0",
        "colab_type": "code",
        "outputId": "b0fe922d-0574-4164-cf28-9afbdf1975ab",
        "colab": {
          "base_uri": "https://localhost:8080/",
          "height": 649
        }
      },
      "source": [
        "model = Sequential()\n",
        "model.add(Conv2D(32, kernel_size=(5, 5),\n",
        "                 activation='relu',\n",
        "                 input_shape=input_shape))\n",
        "model.add(Conv2D(64, (5, 5), activation='relu'))\n",
        "model.add(BatchNormalization())\n",
        "model.add(Conv2D(128, (5, 5), activation='relu'))\n",
        "model.add(BatchNormalization())\n",
        "model.add(Conv2D(64, (5, 5), activation='relu'))\n",
        "model.add(Conv2D(32, (5, 5), activation='relu'))\n",
        "model.add(MaxPooling2D(pool_size=(2, 2)))\n",
        "model.add(Dropout(0.25))\n",
        "model.add(Flatten())\n",
        "model.add(Dense(128, activation='relu'))\n",
        "model.add(Dropout(0.5))\n",
        "model.add(Dense(num_classes, activation='softmax'))\n",
        "\n",
        "model.compile(loss=keras.losses.categorical_crossentropy,\n",
        "              optimizer=keras.optimizers.Adadelta(),\n",
        "              metrics=['accuracy'])\n",
        "\n",
        "history = model.fit(x_train, y_train,\n",
        "          batch_size=batch_size,\n",
        "          epochs=epochs,\n",
        "          verbose=1,\n",
        "          validation_data=(x_test, y_test))\n",
        "score = model.evaluate(x_test, y_test, verbose=0)\n",
        "print('Test loss:', score[0])\n",
        "print('Test accuracy:', score[1])"
      ],
      "execution_count": 0,
      "outputs": [
        {
          "output_type": "stream",
          "text": [
            "WARNING:tensorflow:From /usr/local/lib/python3.6/dist-packages/tensorflow/python/framework/op_def_library.py:263: colocate_with (from tensorflow.python.framework.ops) is deprecated and will be removed in a future version.\n",
            "Instructions for updating:\n",
            "Colocations handled automatically by placer.\n",
            "WARNING:tensorflow:From /usr/local/lib/python3.6/dist-packages/keras/backend/tensorflow_backend.py:3445: calling dropout (from tensorflow.python.ops.nn_ops) with keep_prob is deprecated and will be removed in a future version.\n",
            "Instructions for updating:\n",
            "Please use `rate` instead of `keep_prob`. Rate should be set to `rate = 1 - keep_prob`.\n",
            "WARNING:tensorflow:From /usr/local/lib/python3.6/dist-packages/tensorflow/python/ops/math_ops.py:3066: to_int32 (from tensorflow.python.ops.math_ops) is deprecated and will be removed in a future version.\n",
            "Instructions for updating:\n",
            "Use tf.cast instead.\n",
            "Train on 60000 samples, validate on 10000 samples\n",
            "Epoch 1/12\n",
            "60000/60000 [==============================] - 15s 243us/step - loss: 0.3125 - acc: 0.9086 - val_loss: 0.0750 - val_acc: 0.9787\n",
            "Epoch 2/12\n",
            "60000/60000 [==============================] - 10s 168us/step - loss: 0.1018 - acc: 0.9743 - val_loss: 0.0607 - val_acc: 0.9830\n",
            "Epoch 3/12\n",
            "60000/60000 [==============================] - 10s 167us/step - loss: 0.0684 - acc: 0.9824 - val_loss: 0.0397 - val_acc: 0.9890\n",
            "Epoch 4/12\n",
            "60000/60000 [==============================] - 10s 167us/step - loss: 0.0538 - acc: 0.9857 - val_loss: 0.0429 - val_acc: 0.9881\n",
            "Epoch 5/12\n",
            "60000/60000 [==============================] - 10s 168us/step - loss: 0.0458 - acc: 0.9888 - val_loss: 0.0327 - val_acc: 0.9916\n",
            "Epoch 6/12\n",
            "60000/60000 [==============================] - 10s 168us/step - loss: 0.0382 - acc: 0.9903 - val_loss: 0.0301 - val_acc: 0.9925\n",
            "Epoch 7/12\n",
            "60000/60000 [==============================] - 10s 170us/step - loss: 0.0325 - acc: 0.9918 - val_loss: 0.0331 - val_acc: 0.9922\n",
            "Epoch 8/12\n",
            "60000/60000 [==============================] - 10s 167us/step - loss: 0.0303 - acc: 0.9922 - val_loss: 0.0319 - val_acc: 0.9927\n",
            "Epoch 9/12\n",
            "60000/60000 [==============================] - 10s 169us/step - loss: 0.0266 - acc: 0.9933 - val_loss: 0.0356 - val_acc: 0.9924\n",
            "Epoch 10/12\n",
            "60000/60000 [==============================] - 10s 166us/step - loss: 0.0246 - acc: 0.9939 - val_loss: 0.0377 - val_acc: 0.9918\n",
            "Epoch 11/12\n",
            "60000/60000 [==============================] - 10s 166us/step - loss: 0.0246 - acc: 0.9940 - val_loss: 0.0388 - val_acc: 0.9922\n",
            "Epoch 12/12\n",
            "60000/60000 [==============================] - 10s 166us/step - loss: 0.0222 - acc: 0.9946 - val_loss: 0.0311 - val_acc: 0.9939\n",
            "Test loss: 0.03106973443276179\n",
            "Test accuracy: 0.9939\n"
          ],
          "name": "stdout"
        }
      ]
    },
    {
      "cell_type": "code",
      "metadata": {
        "id": "0zMREJxAElrv",
        "colab_type": "code",
        "outputId": "017828a9-7552-4ee8-b753-ce07cd053a9c",
        "colab": {
          "base_uri": "https://localhost:8080/",
          "height": 578
        }
      },
      "source": [
        "model.summary()"
      ],
      "execution_count": 0,
      "outputs": [
        {
          "output_type": "stream",
          "text": [
            "_________________________________________________________________\n",
            "Layer (type)                 Output Shape              Param #   \n",
            "=================================================================\n",
            "conv2d_1 (Conv2D)            (None, 24, 24, 32)        832       \n",
            "_________________________________________________________________\n",
            "conv2d_2 (Conv2D)            (None, 20, 20, 64)        51264     \n",
            "_________________________________________________________________\n",
            "batch_normalization_1 (Batch (None, 20, 20, 64)        256       \n",
            "_________________________________________________________________\n",
            "conv2d_3 (Conv2D)            (None, 16, 16, 128)       204928    \n",
            "_________________________________________________________________\n",
            "batch_normalization_2 (Batch (None, 16, 16, 128)       512       \n",
            "_________________________________________________________________\n",
            "conv2d_4 (Conv2D)            (None, 12, 12, 64)        204864    \n",
            "_________________________________________________________________\n",
            "conv2d_5 (Conv2D)            (None, 8, 8, 32)          51232     \n",
            "_________________________________________________________________\n",
            "max_pooling2d_1 (MaxPooling2 (None, 4, 4, 32)          0         \n",
            "_________________________________________________________________\n",
            "dropout_1 (Dropout)          (None, 4, 4, 32)          0         \n",
            "_________________________________________________________________\n",
            "flatten_1 (Flatten)          (None, 512)               0         \n",
            "_________________________________________________________________\n",
            "dense_1 (Dense)              (None, 128)               65664     \n",
            "_________________________________________________________________\n",
            "dropout_2 (Dropout)          (None, 128)               0         \n",
            "_________________________________________________________________\n",
            "dense_2 (Dense)              (None, 10)                1290      \n",
            "=================================================================\n",
            "Total params: 580,842\n",
            "Trainable params: 580,458\n",
            "Non-trainable params: 384\n",
            "_________________________________________________________________\n"
          ],
          "name": "stdout"
        }
      ]
    },
    {
      "cell_type": "code",
      "metadata": {
        "id": "nCCRZ_xRO8y3",
        "colab_type": "code",
        "outputId": "cbe08205-2a5f-463b-99a6-49a86cda5107",
        "colab": {
          "base_uri": "https://localhost:8080/",
          "height": 317
        }
      },
      "source": [
        "score = model.evaluate(x_test, y_test, verbose=0) \n",
        "print('Test score:', score[0]) \n",
        "print('Test accuracy:', score[1])\n",
        "\n",
        "fig,ax = plt.subplots(1,1)\n",
        "ax.set_xlabel('epoch') ; ax.set_ylabel('Categorical Crossentropy Loss')\n",
        "\n",
        "# list of epoch numbers\n",
        "x = list(range(1,12+1))\n",
        "\n",
        "# we will get val_loss and val_acc only when you pass the paramter validation_data\n",
        "# val_loss : validation loss\n",
        "# for each key in histrory.histrory we will have a list of length equal to number of epochs\n",
        "\n",
        "vy = history.history['val_loss']\n",
        "ty = history.history['loss']\n",
        "plt_dynamic(x, vy, ty, ax)    "
      ],
      "execution_count": 0,
      "outputs": [
        {
          "output_type": "stream",
          "text": [
            "Test score: 0.03106973443276179\n",
            "Test accuracy: 0.9939\n"
          ],
          "name": "stdout"
        },
        {
          "output_type": "display_data",
          "data": {
            "image/png": "[encoded data removed]",
            "text/plain": [
              "<Figure size 432x288 with 1 Axes>"
            ]
          },
          "metadata": {
            "tags": []
          }
        }
      ]
    },
    {
      "cell_type": "markdown",
      "metadata": {
        "id": "72MjmcFFHbY3",
        "colab_type": "text"
      },
      "source": [
        "## Model Genration 6 Concolution layer with kernel 3X3-> 3X3 -> 5X5 -> 5X5 ->7X7 ->7X7"
      ]
    },
    {
      "cell_type": "code",
      "metadata": {
        "id": "lAQxpBFMyNbw",
        "colab_type": "code",
        "outputId": "eedadd4b-38df-4799-9761-4991b0191db5",
        "colab": {
          "base_uri": "https://localhost:8080/",
          "height": 476
        }
      },
      "source": [
        "model = Sequential()\n",
        "model.add(Conv2D(32, kernel_size=(3, 3),activation='relu',input_shape=input_shape, padding='same'))\n",
        "model.add(Conv2D(32, (3, 3), activation='relu', padding='same'))\n",
        "model.add(MaxPooling2D(pool_size=(2, 2)))\n",
        "model.add(BatchNormalization())\n",
        "model.add(Conv2D(64, (5, 5), activation='relu', padding='same'))\n",
        "model.add(Conv2D(64, (5, 5), activation='relu', padding='same'))\n",
        "model.add(BatchNormalization())\n",
        "model.add(Conv2D(128, (7, 7), activation='relu', padding='same'))\n",
        "model.add(Conv2D(128, (7, 7), activation='relu'))\n",
        "model.add(MaxPooling2D(pool_size=(2, 2)))\n",
        "model.add(BatchNormalization())\n",
        "model.add(Dropout(0.25))\n",
        "model.add(Flatten())\n",
        "model.add(Dense(128, activation='relu'))\n",
        "model.add(Dropout(0.5))\n",
        "model.add(Dense(num_classes, activation='softmax'))\n",
        "\n",
        "model.compile(loss=keras.losses.categorical_crossentropy,\n",
        "              optimizer=keras.optimizers.Adadelta(),\n",
        "              metrics=['accuracy'])\n",
        "\n",
        "history = model.fit(x_train, y_train,\n",
        "          batch_size=batch_size,\n",
        "          epochs=epochs,\n",
        "          verbose=1,\n",
        "          validation_data=(x_test, y_test))\n",
        "score = model.evaluate(x_test, y_test, verbose=0)\n",
        "print('Test loss:', score[0])\n",
        "print('Test accuracy:', score[1])"
      ],
      "execution_count": 0,
      "outputs": [
        {
          "output_type": "stream",
          "text": [
            "Train on 60000 samples, validate on 10000 samples\n",
            "Epoch 1/12\n",
            "60000/60000 [==============================] - 16s 265us/step - loss: 0.1752 - acc: 0.9501 - val_loss: 0.2375 - val_acc: 0.9356\n",
            "Epoch 2/12\n",
            "60000/60000 [==============================] - 14s 238us/step - loss: 0.0523 - acc: 0.9849 - val_loss: 0.0433 - val_acc: 0.9871\n",
            "Epoch 3/12\n",
            "60000/60000 [==============================] - 15s 243us/step - loss: 0.0361 - acc: 0.9902 - val_loss: 0.0254 - val_acc: 0.9932\n",
            "Epoch 4/12\n",
            "60000/60000 [==============================] - 15s 247us/step - loss: 0.0287 - acc: 0.9927 - val_loss: 0.0283 - val_acc: 0.9918\n",
            "Epoch 5/12\n",
            "60000/60000 [==============================] - 15s 248us/step - loss: 0.0209 - acc: 0.9941 - val_loss: 0.0235 - val_acc: 0.9944\n",
            "Epoch 6/12\n",
            "60000/60000 [==============================] - 15s 245us/step - loss: 0.0195 - acc: 0.9946 - val_loss: 0.0258 - val_acc: 0.9934\n",
            "Epoch 7/12\n",
            "60000/60000 [==============================] - 15s 242us/step - loss: 0.0164 - acc: 0.9956 - val_loss: 0.0243 - val_acc: 0.9946\n",
            "Epoch 8/12\n",
            "60000/60000 [==============================] - 15s 243us/step - loss: 0.0126 - acc: 0.9964 - val_loss: 0.0356 - val_acc: 0.9930\n",
            "Epoch 9/12\n",
            "60000/60000 [==============================] - 15s 244us/step - loss: 0.0109 - acc: 0.9974 - val_loss: 0.0315 - val_acc: 0.9938\n",
            "Epoch 10/12\n",
            "60000/60000 [==============================] - 15s 244us/step - loss: 0.0097 - acc: 0.9973 - val_loss: 0.0333 - val_acc: 0.9937\n",
            "Epoch 11/12\n",
            "60000/60000 [==============================] - 15s 245us/step - loss: 0.0078 - acc: 0.9980 - val_loss: 0.0304 - val_acc: 0.9928\n",
            "Epoch 12/12\n",
            "60000/60000 [==============================] - 15s 244us/step - loss: 0.0073 - acc: 0.9980 - val_loss: 0.0291 - val_acc: 0.9940\n",
            "Test loss: 0.02907799239689043\n",
            "Test accuracy: 0.994\n"
          ],
          "name": "stdout"
        }
      ]
    },
    {
      "cell_type": "code",
      "metadata": {
        "id": "BgDDFpMlGYrW",
        "colab_type": "code",
        "outputId": "a4086e3c-2259-4843-fd3d-20e09b2ff9f7",
        "colab": {
          "base_uri": "https://localhost:8080/",
          "height": 680
        }
      },
      "source": [
        "model.summary()"
      ],
      "execution_count": 0,
      "outputs": [
        {
          "output_type": "stream",
          "text": [
            "_________________________________________________________________\n",
            "Layer (type)                 Output Shape              Param #   \n",
            "=================================================================\n",
            "conv2d_21 (Conv2D)           (None, 28, 28, 32)        320       \n",
            "_________________________________________________________________\n",
            "conv2d_22 (Conv2D)           (None, 28, 28, 32)        9248      \n",
            "_________________________________________________________________\n",
            "max_pooling2d_8 (MaxPooling2 (None, 14, 14, 32)        0         \n",
            "_________________________________________________________________\n",
            "batch_normalization_9 (Batch (None, 14, 14, 32)        128       \n",
            "_________________________________________________________________\n",
            "conv2d_23 (Conv2D)           (None, 14, 14, 64)        51264     \n",
            "_________________________________________________________________\n",
            "conv2d_24 (Conv2D)           (None, 14, 14, 64)        102464    \n",
            "_________________________________________________________________\n",
            "batch_normalization_10 (Batc (None, 14, 14, 64)        256       \n",
            "_________________________________________________________________\n",
            "conv2d_25 (Conv2D)           (None, 14, 14, 128)       401536    \n",
            "_________________________________________________________________\n",
            "conv2d_26 (Conv2D)           (None, 8, 8, 128)         802944    \n",
            "_________________________________________________________________\n",
            "max_pooling2d_9 (MaxPooling2 (None, 4, 4, 128)         0         \n",
            "_________________________________________________________________\n",
            "batch_normalization_11 (Batc (None, 4, 4, 128)         512       \n",
            "_________________________________________________________________\n",
            "dropout_3 (Dropout)          (None, 4, 4, 128)         0         \n",
            "_________________________________________________________________\n",
            "flatten_2 (Flatten)          (None, 2048)              0         \n",
            "_________________________________________________________________\n",
            "dense_3 (Dense)              (None, 128)               262272    \n",
            "_________________________________________________________________\n",
            "dropout_4 (Dropout)          (None, 128)               0         \n",
            "_________________________________________________________________\n",
            "dense_4 (Dense)              (None, 10)                1290      \n",
            "=================================================================\n",
            "Total params: 1,632,234\n",
            "Trainable params: 1,631,786\n",
            "Non-trainable params: 448\n",
            "_________________________________________________________________\n"
          ],
          "name": "stdout"
        }
      ]
    },
    {
      "cell_type": "code",
      "metadata": {
        "id": "0yI929uHHBCW",
        "colab_type": "code",
        "outputId": "d9a4cd76-de94-43aa-9d58-b3686577178f",
        "colab": {
          "base_uri": "https://localhost:8080/",
          "height": 317
        }
      },
      "source": [
        "score = model.evaluate(x_test, y_test, verbose=0) \n",
        "print('Test score:', score[0]) \n",
        "print('Test accuracy:', score[1])\n",
        "\n",
        "fig,ax = plt.subplots(1,1)\n",
        "ax.set_xlabel('epoch') ; ax.set_ylabel('Categorical Crossentropy Loss')\n",
        "\n",
        "# list of epoch numbers\n",
        "x = list(range(1,12+1))\n",
        "\n",
        "# we will get val_loss and val_acc only when you pass the paramter validation_data\n",
        "# val_loss : validation loss\n",
        "# for each key in histrory.histrory we will have a list of length equal to number of epochs\n",
        "\n",
        "vy = history.history['val_loss']\n",
        "ty = history.history['loss']\n",
        "plt_dynamic(x, vy, ty, ax)    "
      ],
      "execution_count": 0,
      "outputs": [
        {
          "output_type": "stream",
          "text": [
            "Test score: 0.02907799239689043\n",
            "Test accuracy: 0.994\n"
          ],
          "name": "stdout"
        },
        {
          "output_type": "display_data",
          "data": {
            "image/png": "[encoded data removed]",
            "text/plain": [
              "<Figure size 432x288 with 1 Axes>"
            ]
          },
          "metadata": {
            "tags": []
          }
        }
      ]
    },
    {
      "cell_type": "markdown",
      "metadata": {
        "id": "JSvFXPz_IIWt",
        "colab_type": "text"
      },
      "source": [
        "# Conclusion"
      ]
    },
    {
      "cell_type": "code",
      "metadata": {
        "id": "K0_RMVIBHGch",
        "colab_type": "code",
        "outputId": "c97fd52b-f535-4015-f394-b19b4fe0bdf9",
        "colab": {
          "base_uri": "https://localhost:8080/",
          "height": 136
        }
      },
      "source": [
        "# Please compare all your models using Prettytable library\n",
        "from prettytable import PrettyTable\n",
        "x= PrettyTable()\n",
        "x.field_names= [\"No of Convolution Layers\", \"Kernel size\", 'Test score', 'Test accuracy']\n",
        "x.add_row([6, '3X3',0.021047636220705317,.993 ])\n",
        "x.add_row([6, '5X5', 0.03106973443276179, 0.9939])\n",
        "x.add_row([6, '3X3-> 3X3 -> 5X5 -> 5X5 ->7X7 ->7X7',0.02907799239689043,0.994])\n",
        "print(x)"
      ],
      "execution_count": 0,
      "outputs": [
        {
          "output_type": "stream",
          "text": [
            "+--------------------------+-------------------------------------+----------------------+---------------+\n",
            "| No of Convolution Layers |             Kernel size             |      Test score      | Test accuracy |\n",
            "+--------------------------+-------------------------------------+----------------------+---------------+\n",
            "|            6             |                 3X3                 | 0.021047636220705317 |     0.993     |\n",
            "|            6             |                 5X5                 | 0.03106973443276179  |     0.9939    |\n",
            "|            6             | 3X3-> 3X3 -> 5X5 -> 5X5 ->7X7 ->7X7 | 0.02907799239689043  |     0.994     |\n",
            "+--------------------------+-------------------------------------+----------------------+---------------+\n"
          ],
          "name": "stdout"
        }
      ]
    },
    {
      "cell_type": "code",
      "metadata": {
        "id": "4HgArLY8JCzh",
        "colab_type": "code",
        "colab": {}
      },
      "source": [
        ""
      ],
      "execution_count": 0,
      "outputs": []
    }
  ]
}