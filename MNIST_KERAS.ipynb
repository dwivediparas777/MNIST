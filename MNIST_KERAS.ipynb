{
  "nbformat": 4,
  "nbformat_minor": 0,
  "metadata": {
    "colab": {
      "name": "MNIST_KERAS.ipynb",
      "provenance": [],
      "collapsed_sections": [],
      "include_colab_link": true
    },
    "kernelspec": {
      "name": "python3",
      "display_name": "Python 3"
    },
    "accelerator": "GPU"
  },
  "cells": [
    {
      "cell_type": "markdown",
      "metadata": {
        "id": "view-in-github",
        "colab_type": "text"
      },
      "source": [
        "<a href=\"https://colab.research.google.com/github/dwivediparas777/MNIST/blob/master/MNIST_KERAS.ipynb\" target=\"_parent\"><img src=\"https://colab.research.google.com/assets/colab-badge.svg\" alt=\"Open In Colab\"/></a>"
      ]
    },
    {
      "cell_type": "markdown",
      "metadata": {
        "id": "VI7bVcpDHcK5",
        "colab_type": "text"
      },
      "source": [
        "## Importing Libraries"
      ]
    },
    {
      "cell_type": "code",
      "metadata": {
        "id": "pWxDhPkbHC3f",
        "colab_type": "code",
        "colab": {}
      },
      "source": [
        "# Libraries for Visualization\n",
        "import seaborn as sns\n",
        "import matplotlib.pyplot as plt\n",
        "%matplotlib inline\n",
        "\n",
        "\n",
        "# Immporting libraries for basic calculation\n",
        "import numpy as np\n",
        "\n",
        "# Importing deep learing library\n",
        "from keras.utils import np_utils \n",
        "from keras.datasets import mnist \n",
        "from keras.initializers import RandomNormal\n",
        "from keras.models import Sequential \n",
        "from keras.layers import Dense, Activation\n",
        "from keras.layers.normalization import BatchNormalization\n",
        "from keras.layers import Dropout\n",
        "\n",
        "# Importing other library\n",
        "import time"
      ],
      "execution_count": 0,
      "outputs": []
    },
    {
      "cell_type": "code",
      "metadata": {
        "id": "Sd3x3R8JHaXj",
        "colab_type": "code",
        "colab": {}
      },
      "source": [
        "# https://stackoverflow.com/a/14434334\n",
        "# this function is used to update the plots for each epoch and error\n",
        "def plt_dynamic(x, vy, ty, ax, colors=['b']):\n",
        "    ax.plot(x, vy, 'b', label=\"Validation Loss\")\n",
        "    ax.plot(x, ty, 'r', label=\"Train Loss\")\n",
        "    plt.legend()\n",
        "    plt.grid()\n",
        "    fig.canvas.draw()"
      ],
      "execution_count": 0,
      "outputs": []
    },
    {
      "cell_type": "markdown",
      "metadata": {
        "id": "BVcQusBxIMLS",
        "colab_type": "text"
      },
      "source": [
        "## Load MNIST dataset with the data shuffled between train and test sets"
      ]
    },
    {
      "cell_type": "code",
      "metadata": {
        "id": "jtpuM0EbID_6",
        "colab_type": "code",
        "colab": {}
      },
      "source": [
        "(X_train, y_train), (X_test, y_test) = mnist.load_data()"
      ],
      "execution_count": 0,
      "outputs": []
    },
    {
      "cell_type": "code",
      "metadata": {
        "id": "IdZDNFTfIW6n",
        "colab_type": "code",
        "outputId": "17808d01-3e51-4374-fbd0-97b6e61b4224",
        "colab": {
          "base_uri": "https://localhost:8080/",
          "height": 104
        }
      },
      "source": [
        "print(\"Number of training examples :\", X_train.shape[0], \"and each image is of shape (%d, %d)\"%(X_train.shape[1], X_train.shape[2]))\n",
        "print(\"Number of training examples :\", X_test.shape[0], \"and each image is of shape (%d, %d)\"%(X_test.shape[1], X_test.shape[2]))\n",
        "\n",
        "# if you observe the input shape its 2 dimensional vector\n",
        "# for each image we have a (28*28) vector\n",
        "# we will convert the (28*28) vector into single dimensional vector of 1 * 784 \n",
        "X_train = X_train.reshape(X_train.shape[0], X_train.shape[1]*X_train.shape[2]) \n",
        "X_test = X_test.reshape(X_test.shape[0], X_test.shape[1]*X_test.shape[2]) \n",
        "\n",
        "Y_train = np_utils.to_categorical(y_train, 10) \n",
        "Y_test = np_utils.to_categorical(y_test, 10)\n",
        "\n",
        "\n",
        "print(\"After converting the input images from 3d to 2d vectors\")\n",
        "print(\"Number of training examples :\", X_train.shape[0], \"and each image is of shape (%d)\"%(X_train.shape[1]))\n",
        "print(\"Number of training examples :\", X_test.shape[0], \"and each image is of shape (%d)\"%(X_test.shape[1]))"
      ],
      "execution_count": 0,
      "outputs": [
        {
          "output_type": "stream",
          "text": [
            "Number of training examples : 60000 and each image is of shape (28, 28)\n",
            "Number of training examples : 10000 and each image is of shape (28, 28)\n",
            "After converting the input images from 3d to 2d vectors\n",
            "Number of training examples : 60000 and each image is of shape (784)\n",
            "Number of training examples : 10000 and each image is of shape (784)\n"
          ],
          "name": "stdout"
        }
      ]
    },
    {
      "cell_type": "code",
      "metadata": {
        "id": "e44XdU9NIrxT",
        "colab_type": "code",
        "colab": {}
      },
      "source": [
        "# Lets normalize the data.\n",
        "# We know that formaula for normalization is X = (X-Xmin)/(Xmax-Xmin)\n",
        "# And, here Xmin = 0 and Xmax = 255 (pixel values)\n",
        "# So, X = X/255\n",
        "X_train = X_train/255\n",
        "X_test = X_test/255"
      ],
      "execution_count": 0,
      "outputs": []
    },
    {
      "cell_type": "markdown",
      "metadata": {
        "id": "WaZb-58EPI1V",
        "colab_type": "text"
      },
      "source": [
        "# Model Genration 2 Hidden Layer\n",
        "## 784-516-258-10-SequentialModel"
      ]
    },
    {
      "cell_type": "code",
      "metadata": {
        "id": "YmAap0yXJdtV",
        "colab_type": "code",
        "outputId": "109664e4-2aef-40ce-a5e6-0d8b664f2f24",
        "colab": {
          "base_uri": "https://localhost:8080/",
          "height": 729
        }
      },
      "source": [
        "# some model parameters\n",
        "# keras.optimizers.Adam(lr=0.001, beta_1=0.9, beta_2=0.999, epsilon=None, decay=0.0, amsgrad=False)\n",
        "output_dim = 10\n",
        "input_dim = X_train.shape[1]\n",
        "batch_size = 128 \n",
        "nb_epoch = 20\n",
        "model = Sequential()\n",
        "model.add(Dense(516, input_dim = 784, activation='relu'))\n",
        "model.add(Dense(258, input_dim = 516, activation='relu'))\n",
        "model.add(Dense(10, input_dim = 258, activation='softmax'))\n",
        "model.compile(optimizer='adam', loss='categorical_crossentropy', metrics=['accuracy'])\n",
        "history = model.fit(X_train, Y_train, batch_size=batch_size, epochs=nb_epoch, verbose=1, validation_data=(X_test, Y_test))"
      ],
      "execution_count": 0,
      "outputs": [
        {
          "output_type": "stream",
          "text": [
            "Train on 60000 samples, validate on 10000 samples\n",
            "Epoch 1/20\n",
            "60000/60000 [==============================] - 2s 37us/step - loss: 0.2274 - acc: 0.9330 - val_loss: 0.1060 - val_acc: 0.9655\n",
            "Epoch 2/20\n",
            "60000/60000 [==============================] - 2s 31us/step - loss: 0.0810 - acc: 0.9752 - val_loss: 0.0864 - val_acc: 0.9712\n",
            "Epoch 3/20\n",
            "60000/60000 [==============================] - 2s 31us/step - loss: 0.0540 - acc: 0.9831 - val_loss: 0.0943 - val_acc: 0.9707\n",
            "Epoch 4/20\n",
            "60000/60000 [==============================] - 2s 31us/step - loss: 0.0350 - acc: 0.9886 - val_loss: 0.0679 - val_acc: 0.9795\n",
            "Epoch 5/20\n",
            "60000/60000 [==============================] - 2s 31us/step - loss: 0.0265 - acc: 0.9917 - val_loss: 0.0707 - val_acc: 0.9794\n",
            "Epoch 6/20\n",
            "60000/60000 [==============================] - 2s 31us/step - loss: 0.0216 - acc: 0.9932 - val_loss: 0.0818 - val_acc: 0.9784\n",
            "Epoch 7/20\n",
            "60000/60000 [==============================] - 2s 31us/step - loss: 0.0181 - acc: 0.9939 - val_loss: 0.0762 - val_acc: 0.9793\n",
            "Epoch 8/20\n",
            "60000/60000 [==============================] - 2s 31us/step - loss: 0.0159 - acc: 0.9949 - val_loss: 0.1013 - val_acc: 0.9740\n",
            "Epoch 9/20\n",
            "60000/60000 [==============================] - 2s 31us/step - loss: 0.0152 - acc: 0.9949 - val_loss: 0.1177 - val_acc: 0.9724\n",
            "Epoch 10/20\n",
            "60000/60000 [==============================] - 2s 32us/step - loss: 0.0122 - acc: 0.9958 - val_loss: 0.0835 - val_acc: 0.9812\n",
            "Epoch 11/20\n",
            "60000/60000 [==============================] - 2s 34us/step - loss: 0.0099 - acc: 0.9965 - val_loss: 0.0952 - val_acc: 0.9779\n",
            "Epoch 12/20\n",
            "60000/60000 [==============================] - 2s 34us/step - loss: 0.0113 - acc: 0.9961 - val_loss: 0.0863 - val_acc: 0.9807\n",
            "Epoch 13/20\n",
            "60000/60000 [==============================] - 2s 34us/step - loss: 0.0088 - acc: 0.9968 - val_loss: 0.0884 - val_acc: 0.9820\n",
            "Epoch 14/20\n",
            "60000/60000 [==============================] - 2s 34us/step - loss: 0.0100 - acc: 0.9968 - val_loss: 0.0944 - val_acc: 0.9786\n",
            "Epoch 15/20\n",
            "60000/60000 [==============================] - 2s 33us/step - loss: 0.0087 - acc: 0.9971 - val_loss: 0.0906 - val_acc: 0.9816\n",
            "Epoch 16/20\n",
            "60000/60000 [==============================] - 2s 31us/step - loss: 0.0070 - acc: 0.9975 - val_loss: 0.1030 - val_acc: 0.9787\n",
            "Epoch 17/20\n",
            "60000/60000 [==============================] - 2s 31us/step - loss: 0.0097 - acc: 0.9967 - val_loss: 0.0877 - val_acc: 0.9831\n",
            "Epoch 18/20\n",
            "60000/60000 [==============================] - 2s 31us/step - loss: 0.0071 - acc: 0.9977 - val_loss: 0.1111 - val_acc: 0.9797\n",
            "Epoch 19/20\n",
            "60000/60000 [==============================] - 2s 30us/step - loss: 0.0093 - acc: 0.9969 - val_loss: 0.0812 - val_acc: 0.9846\n",
            "Epoch 20/20\n",
            "60000/60000 [==============================] - 2s 31us/step - loss: 0.0047 - acc: 0.9984 - val_loss: 0.1032 - val_acc: 0.9800\n"
          ],
          "name": "stdout"
        }
      ]
    },
    {
      "cell_type": "code",
      "metadata": {
        "id": "6r8-uH5c8IXg",
        "colab_type": "code",
        "outputId": "efef75ae-5641-4489-f063-8aab3d511505",
        "colab": {
          "base_uri": "https://localhost:8080/",
          "height": 243
        }
      },
      "source": [
        "model.summary()"
      ],
      "execution_count": 0,
      "outputs": [
        {
          "output_type": "stream",
          "text": [
            "_________________________________________________________________\n",
            "Layer (type)                 Output Shape              Param #   \n",
            "=================================================================\n",
            "dense_19 (Dense)             (None, 516)               405060    \n",
            "_________________________________________________________________\n",
            "dense_20 (Dense)             (None, 258)               133386    \n",
            "_________________________________________________________________\n",
            "dense_21 (Dense)             (None, 10)                2590      \n",
            "=================================================================\n",
            "Total params: 541,036\n",
            "Trainable params: 541,036\n",
            "Non-trainable params: 0\n",
            "_________________________________________________________________\n"
          ],
          "name": "stdout"
        }
      ]
    },
    {
      "cell_type": "code",
      "metadata": {
        "id": "FqquYrUc8t9D",
        "colab_type": "code",
        "outputId": "232597ce-3d0a-4ff6-e2d3-7dfece8cfa09",
        "colab": {
          "base_uri": "https://localhost:8080/",
          "height": 318
        }
      },
      "source": [
        "score = model.evaluate(X_test, Y_test, verbose=0) \n",
        "print('Test score:', score[0]) \n",
        "print('Test accuracy:', score[1])\n",
        "\n",
        "fig,ax = plt.subplots(1,1)\n",
        "ax.set_xlabel('epoch') ; ax.set_ylabel('Categorical Crossentropy Loss')\n",
        "\n",
        "# list of epoch numbers\n",
        "x = list(range(1,nb_epoch+1))\n",
        "\n",
        "# we will get val_loss and val_acc only when you pass the paramter validation_data\n",
        "# val_loss : validation loss\n",
        "# for each key in histrory.histrory we will have a list of length equal to number of epochs\n",
        "\n",
        "vy = history.history['val_loss']\n",
        "ty = history.history['loss']\n",
        "plt_dynamic(x, vy, ty, ax)"
      ],
      "execution_count": 0,
      "outputs": [
        {
          "output_type": "stream",
          "text": [
            "Test score: 0.10316445550172403\n",
            "Test accuracy: 0.98\n"
          ],
          "name": "stdout"
        },
        {
          "output_type": "display_data",
          "data": {
            "image/png": "[encoded data removed]",
            "text/plain": [
              "<Figure size 432x288 with 1 Axes>"
            ]
          },
          "metadata": {
            "tags": []
          }
        }
      ]
    },
    {
      "cell_type": "markdown",
      "metadata": {
        "id": "UjOKG36L-57P",
        "colab_type": "text"
      },
      "source": [
        "## 784-516-258-10-SequentialModel + BN"
      ]
    },
    {
      "cell_type": "code",
      "metadata": {
        "id": "3DVkrSbC84DZ",
        "colab_type": "code",
        "outputId": "42d2225e-bc63-4204-bf57-78cba482d9e0",
        "colab": {
          "base_uri": "https://localhost:8080/",
          "height": 729
        }
      },
      "source": [
        "# some model parameters\n",
        "# keras.optimizers.Adam(lr=0.001, beta_1=0.9, beta_2=0.999, epsilon=None, decay=0.0, amsgrad=False)\n",
        "output_dim = 10\n",
        "input_dim = X_train.shape[1]\n",
        "batch_size = 128 \n",
        "nb_epoch = 20\n",
        "model = Sequential()\n",
        "model.add(Dense(516, input_dim = 784, activation='relu'))\n",
        "model.add(BatchNormalization())\n",
        "model.add(Dense(258, input_dim = 516, activation='relu'))\n",
        "model.add(BatchNormalization())\n",
        "model.add(Dense(10, input_dim = 258, activation='softmax'))\n",
        "model.compile(optimizer='adam', loss='categorical_crossentropy', metrics=['accuracy'])\n",
        "history = model.fit(X_train, Y_train, batch_size=batch_size, epochs=nb_epoch, verbose=1, validation_data=(X_test, Y_test))"
      ],
      "execution_count": 0,
      "outputs": [
        {
          "output_type": "stream",
          "text": [
            "Train on 60000 samples, validate on 10000 samples\n",
            "Epoch 1/20\n",
            "60000/60000 [==============================] - 4s 60us/step - loss: 0.1685 - acc: 0.9487 - val_loss: 0.1088 - val_acc: 0.9628\n",
            "Epoch 2/20\n",
            "60000/60000 [==============================] - 3s 48us/step - loss: 0.0678 - acc: 0.9797 - val_loss: 0.0834 - val_acc: 0.9745\n",
            "Epoch 3/20\n",
            "60000/60000 [==============================] - 3s 54us/step - loss: 0.0473 - acc: 0.9846 - val_loss: 0.0960 - val_acc: 0.9706\n",
            "Epoch 4/20\n",
            "60000/60000 [==============================] - 3s 54us/step - loss: 0.0349 - acc: 0.9891 - val_loss: 0.0808 - val_acc: 0.9769\n",
            "Epoch 5/20\n",
            "60000/60000 [==============================] - 3s 54us/step - loss: 0.0292 - acc: 0.9902 - val_loss: 0.0700 - val_acc: 0.9788\n",
            "Epoch 6/20\n",
            "60000/60000 [==============================] - 3s 49us/step - loss: 0.0236 - acc: 0.9919 - val_loss: 0.0602 - val_acc: 0.9806\n",
            "Epoch 7/20\n",
            "60000/60000 [==============================] - 3s 48us/step - loss: 0.0196 - acc: 0.9934 - val_loss: 0.0800 - val_acc: 0.9779\n",
            "Epoch 8/20\n",
            "60000/60000 [==============================] - 3s 47us/step - loss: 0.0171 - acc: 0.9944 - val_loss: 0.0756 - val_acc: 0.9791\n",
            "Epoch 9/20\n",
            "60000/60000 [==============================] - 3s 48us/step - loss: 0.0148 - acc: 0.9950 - val_loss: 0.0731 - val_acc: 0.9782\n",
            "Epoch 10/20\n",
            "60000/60000 [==============================] - 3s 48us/step - loss: 0.0158 - acc: 0.9947 - val_loss: 0.0679 - val_acc: 0.9811\n",
            "Epoch 11/20\n",
            "60000/60000 [==============================] - 3s 48us/step - loss: 0.0144 - acc: 0.9951 - val_loss: 0.0622 - val_acc: 0.9827\n",
            "Epoch 12/20\n",
            "60000/60000 [==============================] - 3s 48us/step - loss: 0.0119 - acc: 0.9960 - val_loss: 0.0732 - val_acc: 0.9811\n",
            "Epoch 13/20\n",
            "60000/60000 [==============================] - 3s 48us/step - loss: 0.0105 - acc: 0.9966 - val_loss: 0.0707 - val_acc: 0.9809\n",
            "Epoch 14/20\n",
            "60000/60000 [==============================] - 3s 48us/step - loss: 0.0095 - acc: 0.9970 - val_loss: 0.0722 - val_acc: 0.9822\n",
            "Epoch 15/20\n",
            "60000/60000 [==============================] - 3s 47us/step - loss: 0.0125 - acc: 0.9956 - val_loss: 0.0700 - val_acc: 0.9820\n",
            "Epoch 16/20\n",
            "60000/60000 [==============================] - 3s 48us/step - loss: 0.0098 - acc: 0.9964 - val_loss: 0.0717 - val_acc: 0.9819\n",
            "Epoch 17/20\n",
            "60000/60000 [==============================] - 3s 49us/step - loss: 0.0095 - acc: 0.9971 - val_loss: 0.0768 - val_acc: 0.9823\n",
            "Epoch 18/20\n",
            "60000/60000 [==============================] - 3s 48us/step - loss: 0.0070 - acc: 0.9976 - val_loss: 0.0891 - val_acc: 0.9792\n",
            "Epoch 19/20\n",
            "60000/60000 [==============================] - 3s 47us/step - loss: 0.0103 - acc: 0.9966 - val_loss: 0.0733 - val_acc: 0.9827\n",
            "Epoch 20/20\n",
            "60000/60000 [==============================] - 3s 48us/step - loss: 0.0087 - acc: 0.9970 - val_loss: 0.0780 - val_acc: 0.9807\n"
          ],
          "name": "stdout"
        }
      ]
    },
    {
      "cell_type": "code",
      "metadata": {
        "id": "mcx3u_Yn_8yL",
        "colab_type": "code",
        "outputId": "f5005aea-f262-4f01-f6c1-84d5e0034e29",
        "colab": {
          "base_uri": "https://localhost:8080/",
          "height": 312
        }
      },
      "source": [
        "model.summary()"
      ],
      "execution_count": 0,
      "outputs": [
        {
          "output_type": "stream",
          "text": [
            "_________________________________________________________________\n",
            "Layer (type)                 Output Shape              Param #   \n",
            "=================================================================\n",
            "dense_22 (Dense)             (None, 516)               405060    \n",
            "_________________________________________________________________\n",
            "batch_normalization_1 (Batch (None, 516)               2064      \n",
            "_________________________________________________________________\n",
            "dense_23 (Dense)             (None, 258)               133386    \n",
            "_________________________________________________________________\n",
            "batch_normalization_2 (Batch (None, 258)               1032      \n",
            "_________________________________________________________________\n",
            "dense_24 (Dense)             (None, 10)                2590      \n",
            "=================================================================\n",
            "Total params: 544,132\n",
            "Trainable params: 542,584\n",
            "Non-trainable params: 1,548\n",
            "_________________________________________________________________\n"
          ],
          "name": "stdout"
        }
      ]
    },
    {
      "cell_type": "code",
      "metadata": {
        "colab_type": "code",
        "outputId": "d5889943-7ade-4b06-b2d0-5fade037325f",
        "id": "UfT2LSL2AC6-",
        "colab": {
          "base_uri": "https://localhost:8080/",
          "height": 318
        }
      },
      "source": [
        "score = model.evaluate(X_test, Y_test, verbose=0) \n",
        "print('Test score:', score[0]) \n",
        "print('Test accuracy:', score[1])\n",
        "\n",
        "fig,ax = plt.subplots(1,1)\n",
        "ax.set_xlabel('epoch') ; ax.set_ylabel('Categorical Crossentropy Loss')\n",
        "\n",
        "# list of epoch numbers\n",
        "x = list(range(1,nb_epoch+1))\n",
        "\n",
        "# we will get val_loss and val_acc only when you pass the paramter validation_data\n",
        "# val_loss : validation loss\n",
        "# for each key in histrory.histrory we will have a list of length equal to number of epochs\n",
        "\n",
        "vy = history.history['val_loss']\n",
        "ty = history.history['loss']\n",
        "plt_dynamic(x, vy, ty, ax)    "
      ],
      "execution_count": 0,
      "outputs": [
        {
          "output_type": "stream",
          "text": [
            "Test score: 0.0779808205377387\n",
            "Test accuracy: 0.9807\n"
          ],
          "name": "stdout"
        },
        {
          "output_type": "display_data",
          "data": {
            "image/png": "[encoded data removed]",
            "text/plain": [
              "<Figure size 432x288 with 1 Axes>"
            ]
          },
          "metadata": {
            "tags": []
          }
        }
      ]
    },
    {
      "cell_type": "markdown",
      "metadata": {
        "id": "2PBO2XBJAKev",
        "colab_type": "text"
      },
      "source": [
        "## 784-516-258-10-SequentialModel + DropOut"
      ]
    },
    {
      "cell_type": "code",
      "metadata": {
        "id": "D_qu4Ql5ADVy",
        "colab_type": "code",
        "outputId": "b42d30c6-c988-465e-9616-2610c5f8972e",
        "colab": {
          "base_uri": "https://localhost:8080/",
          "height": 801
        }
      },
      "source": [
        "# some model parameters\n",
        "# keras.optimizers.Adam(lr=0.001, beta_1=0.9, beta_2=0.999, epsilon=None, decay=0.0, amsgrad=False)\n",
        "output_dim = 10\n",
        "input_dim = X_train.shape[1]\n",
        "batch_size = 128 \n",
        "nb_epoch = 20\n",
        "model = Sequential()\n",
        "model.add(Dense(516, input_dim = 784, activation='relu'))\n",
        "model.add(Dropout(.5))\n",
        "model.add(Dense(258, input_dim = 516, activation='relu'))\n",
        "model.add(Dropout(.5))\n",
        "model.add(Dense(10, input_dim = 258, activation='softmax'))\n",
        "model.compile(optimizer='adam', loss='categorical_crossentropy', metrics=['accuracy'])\n",
        "history = model.fit(X_train, Y_train, batch_size=batch_size, epochs=nb_epoch, verbose=1, validation_data=(X_test, Y_test))"
      ],
      "execution_count": 0,
      "outputs": [
        {
          "output_type": "stream",
          "text": [
            "WARNING:tensorflow:From /usr/local/lib/python3.6/dist-packages/keras/backend/tensorflow_backend.py:3445: calling dropout (from tensorflow.python.ops.nn_ops) with keep_prob is deprecated and will be removed in a future version.\n",
            "Instructions for updating:\n",
            "Please use `rate` instead of `keep_prob`. Rate should be set to `rate = 1 - keep_prob`.\n",
            "Train on 60000 samples, validate on 10000 samples\n",
            "Epoch 1/20\n",
            "60000/60000 [==============================] - 3s 48us/step - loss: 0.3820 - acc: 0.8814 - val_loss: 0.1368 - val_acc: 0.9574\n",
            "Epoch 2/20\n",
            "60000/60000 [==============================] - 2s 38us/step - loss: 0.1749 - acc: 0.9479 - val_loss: 0.0894 - val_acc: 0.9729\n",
            "Epoch 3/20\n",
            "60000/60000 [==============================] - 2s 37us/step - loss: 0.1344 - acc: 0.9595 - val_loss: 0.0809 - val_acc: 0.9744\n",
            "Epoch 4/20\n",
            "60000/60000 [==============================] - 2s 34us/step - loss: 0.1120 - acc: 0.9662 - val_loss: 0.0754 - val_acc: 0.9770\n",
            "Epoch 5/20\n",
            "60000/60000 [==============================] - 2s 34us/step - loss: 0.1011 - acc: 0.9684 - val_loss: 0.0704 - val_acc: 0.9786\n",
            "Epoch 6/20\n",
            "60000/60000 [==============================] - 2s 34us/step - loss: 0.0883 - acc: 0.9726 - val_loss: 0.0676 - val_acc: 0.9794\n",
            "Epoch 7/20\n",
            "60000/60000 [==============================] - 2s 34us/step - loss: 0.0848 - acc: 0.9738 - val_loss: 0.0641 - val_acc: 0.9808\n",
            "Epoch 8/20\n",
            "60000/60000 [==============================] - 2s 34us/step - loss: 0.0767 - acc: 0.9762 - val_loss: 0.0711 - val_acc: 0.9790\n",
            "Epoch 9/20\n",
            "60000/60000 [==============================] - 2s 34us/step - loss: 0.0712 - acc: 0.9786 - val_loss: 0.0627 - val_acc: 0.9808\n",
            "Epoch 10/20\n",
            "60000/60000 [==============================] - 2s 34us/step - loss: 0.0705 - acc: 0.9775 - val_loss: 0.0604 - val_acc: 0.9823\n",
            "Epoch 11/20\n",
            "60000/60000 [==============================] - 2s 34us/step - loss: 0.0629 - acc: 0.9803 - val_loss: 0.0655 - val_acc: 0.9799\n",
            "Epoch 12/20\n",
            "60000/60000 [==============================] - 2s 34us/step - loss: 0.0604 - acc: 0.9809 - val_loss: 0.0610 - val_acc: 0.9811\n",
            "Epoch 13/20\n",
            "60000/60000 [==============================] - 2s 34us/step - loss: 0.0609 - acc: 0.9807 - val_loss: 0.0590 - val_acc: 0.9833\n",
            "Epoch 14/20\n",
            "60000/60000 [==============================] - 2s 34us/step - loss: 0.0583 - acc: 0.9821 - val_loss: 0.0618 - val_acc: 0.9815\n",
            "Epoch 15/20\n",
            "60000/60000 [==============================] - 2s 34us/step - loss: 0.0543 - acc: 0.9822 - val_loss: 0.0637 - val_acc: 0.9821\n",
            "Epoch 16/20\n",
            "60000/60000 [==============================] - 2s 34us/step - loss: 0.0512 - acc: 0.9842 - val_loss: 0.0631 - val_acc: 0.9822\n",
            "Epoch 17/20\n",
            "60000/60000 [==============================] - 2s 34us/step - loss: 0.0511 - acc: 0.9839 - val_loss: 0.0598 - val_acc: 0.9819\n",
            "Epoch 18/20\n",
            "60000/60000 [==============================] - 2s 34us/step - loss: 0.0486 - acc: 0.9841 - val_loss: 0.0562 - val_acc: 0.9831\n",
            "Epoch 19/20\n",
            "60000/60000 [==============================] - 2s 34us/step - loss: 0.0494 - acc: 0.9841 - val_loss: 0.0602 - val_acc: 0.9828\n",
            "Epoch 20/20\n",
            "60000/60000 [==============================] - 2s 34us/step - loss: 0.0479 - acc: 0.9851 - val_loss: 0.0618 - val_acc: 0.9840\n"
          ],
          "name": "stdout"
        }
      ]
    },
    {
      "cell_type": "code",
      "metadata": {
        "id": "2LlLICS9AiUK",
        "colab_type": "code",
        "outputId": "53a500c0-71d1-4ef6-e3f4-146396074923",
        "colab": {
          "base_uri": "https://localhost:8080/",
          "height": 312
        }
      },
      "source": [
        "model.summary()"
      ],
      "execution_count": 0,
      "outputs": [
        {
          "output_type": "stream",
          "text": [
            "_________________________________________________________________\n",
            "Layer (type)                 Output Shape              Param #   \n",
            "=================================================================\n",
            "dense_26 (Dense)             (None, 516)               405060    \n",
            "_________________________________________________________________\n",
            "dropout_1 (Dropout)          (None, 516)               0         \n",
            "_________________________________________________________________\n",
            "dense_27 (Dense)             (None, 258)               133386    \n",
            "_________________________________________________________________\n",
            "dropout_2 (Dropout)          (None, 258)               0         \n",
            "_________________________________________________________________\n",
            "dense_28 (Dense)             (None, 10)                2590      \n",
            "=================================================================\n",
            "Total params: 541,036\n",
            "Trainable params: 541,036\n",
            "Non-trainable params: 0\n",
            "_________________________________________________________________\n"
          ],
          "name": "stdout"
        }
      ]
    },
    {
      "cell_type": "code",
      "metadata": {
        "id": "VI_xeW2pAocz",
        "colab_type": "code",
        "outputId": "1d335c8a-194b-43df-89fa-d944bfa69c9b",
        "colab": {
          "base_uri": "https://localhost:8080/",
          "height": 318
        }
      },
      "source": [
        "score = model.evaluate(X_test, Y_test, verbose=0) \n",
        "print('Test score:', score[0]) \n",
        "print('Test accuracy:', score[1])\n",
        "\n",
        "fig,ax = plt.subplots(1,1)\n",
        "ax.set_xlabel('epoch') ; ax.set_ylabel('Categorical Crossentropy Loss')\n",
        "\n",
        "# list of epoch numbers\n",
        "x = list(range(1,nb_epoch+1))\n",
        "\n",
        "# we will get val_loss and val_acc only when you pass the paramter validation_data\n",
        "# val_loss : validation loss\n",
        "# for each key in histrory.histrory we will have a list of length equal to number of epochs\n",
        "\n",
        "vy = history.history['val_loss']\n",
        "ty = history.history['loss']\n",
        "plt_dynamic(x, vy, ty, ax)    "
      ],
      "execution_count": 0,
      "outputs": [
        {
          "output_type": "stream",
          "text": [
            "Test score: 0.061835459499752866\n",
            "Test accuracy: 0.984\n"
          ],
          "name": "stdout"
        },
        {
          "output_type": "display_data",
          "data": {
            "image/png": "[encoded data removed]",
            "text/plain": [
              "<Figure size 432x288 with 1 Axes>"
            ]
          },
          "metadata": {
            "tags": []
          }
        }
      ]
    },
    {
      "cell_type": "markdown",
      "metadata": {
        "id": "xU2cROiFAsOz",
        "colab_type": "text"
      },
      "source": [
        "## 784-516-258-10-SequentialModel + BN + DropOut"
      ]
    },
    {
      "cell_type": "code",
      "metadata": {
        "id": "03zt4Xj2Aq-q",
        "colab_type": "code",
        "outputId": "0594811e-f7ce-4c58-c254-6ae5732aa203",
        "colab": {
          "base_uri": "https://localhost:8080/",
          "height": 729
        }
      },
      "source": [
        "# some model parameters\n",
        "# keras.optimizers.Adam(lr=0.001, beta_1=0.9, beta_2=0.999, epsilon=None, decay=0.0, amsgrad=False)\n",
        "output_dim = 10\n",
        "input_dim = X_train.shape[1]\n",
        "batch_size = 128 \n",
        "nb_epoch = 20\n",
        "model = Sequential()\n",
        "model.add(Dense(516, input_dim = 784, activation='relu'))\n",
        "model.add(BatchNormalization())\n",
        "model.add(Dropout(.5))\n",
        "model.add(Dense(258, input_dim = 516, activation='relu'))\n",
        "model.add(BatchNormalization())\n",
        "model.add(Dropout(.5))\n",
        "model.add(Dense(10, input_dim = 258, activation='softmax'))\n",
        "model.compile(optimizer='adam', loss='categorical_crossentropy', metrics=['accuracy'])\n",
        "history = model.fit(X_train, Y_train, batch_size=batch_size, epochs=nb_epoch, verbose=1, validation_data=(X_test, Y_test))"
      ],
      "execution_count": 0,
      "outputs": [
        {
          "output_type": "stream",
          "text": [
            "Train on 60000 samples, validate on 10000 samples\n",
            "Epoch 1/20\n",
            "60000/60000 [==============================] - 4s 65us/step - loss: 0.3705 - acc: 0.8890 - val_loss: 0.1256 - val_acc: 0.9592\n",
            "Epoch 2/20\n",
            "60000/60000 [==============================] - 3s 50us/step - loss: 0.1848 - acc: 0.9434 - val_loss: 0.0949 - val_acc: 0.9712\n",
            "Epoch 3/20\n",
            "60000/60000 [==============================] - 3s 49us/step - loss: 0.1472 - acc: 0.9543 - val_loss: 0.0830 - val_acc: 0.9738\n",
            "Epoch 4/20\n",
            "60000/60000 [==============================] - 3s 50us/step - loss: 0.1250 - acc: 0.9611 - val_loss: 0.0728 - val_acc: 0.9764\n",
            "Epoch 5/20\n",
            "60000/60000 [==============================] - 3s 50us/step - loss: 0.1137 - acc: 0.9647 - val_loss: 0.0698 - val_acc: 0.9789\n",
            "Epoch 6/20\n",
            "60000/60000 [==============================] - 3s 50us/step - loss: 0.0973 - acc: 0.9697 - val_loss: 0.0654 - val_acc: 0.9785\n",
            "Epoch 7/20\n",
            "60000/60000 [==============================] - 3s 50us/step - loss: 0.0937 - acc: 0.9707 - val_loss: 0.0734 - val_acc: 0.9776\n",
            "Epoch 8/20\n",
            "60000/60000 [==============================] - 3s 50us/step - loss: 0.0881 - acc: 0.9724 - val_loss: 0.0628 - val_acc: 0.9805\n",
            "Epoch 9/20\n",
            "60000/60000 [==============================] - 3s 51us/step - loss: 0.0809 - acc: 0.9740 - val_loss: 0.0568 - val_acc: 0.9818\n",
            "Epoch 10/20\n",
            "60000/60000 [==============================] - 3s 50us/step - loss: 0.0754 - acc: 0.9756 - val_loss: 0.0578 - val_acc: 0.9829\n",
            "Epoch 11/20\n",
            "60000/60000 [==============================] - 3s 51us/step - loss: 0.0734 - acc: 0.9764 - val_loss: 0.0582 - val_acc: 0.9818\n",
            "Epoch 12/20\n",
            "60000/60000 [==============================] - 3s 55us/step - loss: 0.0701 - acc: 0.9772 - val_loss: 0.0605 - val_acc: 0.9822\n",
            "Epoch 13/20\n",
            "60000/60000 [==============================] - 3s 56us/step - loss: 0.0653 - acc: 0.9791 - val_loss: 0.0583 - val_acc: 0.9823\n",
            "Epoch 14/20\n",
            "60000/60000 [==============================] - 3s 54us/step - loss: 0.0618 - acc: 0.9798 - val_loss: 0.0606 - val_acc: 0.9824\n",
            "Epoch 15/20\n",
            "60000/60000 [==============================] - 3s 50us/step - loss: 0.0602 - acc: 0.9810 - val_loss: 0.0574 - val_acc: 0.9827\n",
            "Epoch 16/20\n",
            "60000/60000 [==============================] - 3s 50us/step - loss: 0.0582 - acc: 0.9809 - val_loss: 0.0572 - val_acc: 0.9831\n",
            "Epoch 17/20\n",
            "60000/60000 [==============================] - 3s 49us/step - loss: 0.0575 - acc: 0.9807 - val_loss: 0.0539 - val_acc: 0.9844\n",
            "Epoch 18/20\n",
            "60000/60000 [==============================] - 3s 50us/step - loss: 0.0559 - acc: 0.9815 - val_loss: 0.0571 - val_acc: 0.9817\n",
            "Epoch 19/20\n",
            "60000/60000 [==============================] - 3s 50us/step - loss: 0.0524 - acc: 0.9832 - val_loss: 0.0513 - val_acc: 0.9843\n",
            "Epoch 20/20\n",
            "60000/60000 [==============================] - 3s 50us/step - loss: 0.0494 - acc: 0.9835 - val_loss: 0.0523 - val_acc: 0.9845\n"
          ],
          "name": "stdout"
        }
      ]
    },
    {
      "cell_type": "code",
      "metadata": {
        "id": "ylrGag4sBE0r",
        "colab_type": "code",
        "outputId": "0cf1b834-cfa1-4314-c854-34a97df27655",
        "colab": {
          "base_uri": "https://localhost:8080/",
          "height": 382
        }
      },
      "source": [
        "model.summary()"
      ],
      "execution_count": 0,
      "outputs": [
        {
          "output_type": "stream",
          "text": [
            "_________________________________________________________________\n",
            "Layer (type)                 Output Shape              Param #   \n",
            "=================================================================\n",
            "dense_29 (Dense)             (None, 516)               405060    \n",
            "_________________________________________________________________\n",
            "batch_normalization_3 (Batch (None, 516)               2064      \n",
            "_________________________________________________________________\n",
            "dropout_3 (Dropout)          (None, 516)               0         \n",
            "_________________________________________________________________\n",
            "dense_30 (Dense)             (None, 258)               133386    \n",
            "_________________________________________________________________\n",
            "batch_normalization_4 (Batch (None, 258)               1032      \n",
            "_________________________________________________________________\n",
            "dropout_4 (Dropout)          (None, 258)               0         \n",
            "_________________________________________________________________\n",
            "dense_31 (Dense)             (None, 10)                2590      \n",
            "=================================================================\n",
            "Total params: 544,132\n",
            "Trainable params: 542,584\n",
            "Non-trainable params: 1,548\n",
            "_________________________________________________________________\n"
          ],
          "name": "stdout"
        }
      ]
    },
    {
      "cell_type": "code",
      "metadata": {
        "id": "212HPEvIBHoQ",
        "colab_type": "code",
        "outputId": "c5bf63ee-58de-45a1-a0ed-72f172f481d0",
        "colab": {
          "base_uri": "https://localhost:8080/",
          "height": 318
        }
      },
      "source": [
        "score = model.evaluate(X_test, Y_test, verbose=0) \n",
        "print('Test score:', score[0]) \n",
        "print('Test accuracy:', score[1])\n",
        "\n",
        "fig,ax = plt.subplots(1,1)\n",
        "ax.set_xlabel('epoch') ; ax.set_ylabel('Categorical Crossentropy Loss')\n",
        "\n",
        "# list of epoch numbers\n",
        "x = list(range(1,nb_epoch+1))\n",
        "\n",
        "# we will get val_loss and val_acc only when you pass the paramter validation_data\n",
        "# val_loss : validation loss\n",
        "# for each key in histrory.histrory we will have a list of length equal to number of epochs\n",
        "\n",
        "vy = history.history['val_loss']\n",
        "ty = history.history['loss']\n",
        "plt_dynamic(x, vy, ty, ax)"
      ],
      "execution_count": 0,
      "outputs": [
        {
          "output_type": "stream",
          "text": [
            "Test score: 0.05232281187833869\n",
            "Test accuracy: 0.9845\n"
          ],
          "name": "stdout"
        },
        {
          "output_type": "display_data",
          "data": {
            "image/png": "[encoded data removed]",
            "text/plain": [
              "<Figure size 432x288 with 1 Axes>"
            ]
          },
          "metadata": {
            "tags": []
          }
        }
      ]
    },
    {
      "cell_type": "markdown",
      "metadata": {
        "id": "zXp6xWZaBKsL",
        "colab_type": "text"
      },
      "source": [
        "# Model Genration 3 Hidden Layer\n",
        "## 784-582-388-194-10-SequentialModel"
      ]
    },
    {
      "cell_type": "code",
      "metadata": {
        "id": "jAbbn_xABJ45",
        "colab_type": "code",
        "outputId": "b3274b39-cfe1-4cd1-c14b-69d36cff423e",
        "colab": {
          "base_uri": "https://localhost:8080/",
          "height": 729
        }
      },
      "source": [
        "# some model parameters\n",
        "# keras.optimizers.Adam(lr=0.001, beta_1=0.9, beta_2=0.999, epsilon=None, decay=0.0, amsgrad=False)\n",
        "output_dim = 10\n",
        "input_dim = X_train.shape[1]\n",
        "batch_size = 128 \n",
        "nb_epoch = 20\n",
        "model = Sequential()\n",
        "model.add(Dense(582, input_dim = 784, activation='relu'))\n",
        "model.add(Dense(288, input_dim = 582, activation='relu'))\n",
        "model.add(Dense(194, input_dim = 288, activation='relu'))\n",
        "model.add(Dense(10, input_dim = 194, activation='softmax'))\n",
        "model.compile(optimizer='adam', loss='categorical_crossentropy', metrics=['accuracy'])\n",
        "history = model.fit(X_train, Y_train, batch_size=batch_size, epochs=nb_epoch, verbose=1, validation_data=(X_test, Y_test))"
      ],
      "execution_count": 0,
      "outputs": [
        {
          "output_type": "stream",
          "text": [
            "Train on 60000 samples, validate on 10000 samples\n",
            "Epoch 1/20\n",
            "60000/60000 [==============================] - 3s 49us/step - loss: 0.2206 - acc: 0.9330 - val_loss: 0.1024 - val_acc: 0.9691\n",
            "Epoch 2/20\n",
            "60000/60000 [==============================] - 2s 34us/step - loss: 0.0825 - acc: 0.9749 - val_loss: 0.0960 - val_acc: 0.9712\n",
            "Epoch 3/20\n",
            "60000/60000 [==============================] - 2s 34us/step - loss: 0.0542 - acc: 0.9831 - val_loss: 0.0932 - val_acc: 0.9716\n",
            "Epoch 4/20\n",
            "60000/60000 [==============================] - 2s 34us/step - loss: 0.0408 - acc: 0.9870 - val_loss: 0.0982 - val_acc: 0.9700\n",
            "Epoch 5/20\n",
            "60000/60000 [==============================] - 2s 34us/step - loss: 0.0323 - acc: 0.9894 - val_loss: 0.0757 - val_acc: 0.9785\n",
            "Epoch 6/20\n",
            "60000/60000 [==============================] - 2s 34us/step - loss: 0.0253 - acc: 0.9917 - val_loss: 0.0823 - val_acc: 0.9765\n",
            "Epoch 7/20\n",
            "60000/60000 [==============================] - 2s 34us/step - loss: 0.0228 - acc: 0.9923 - val_loss: 0.0801 - val_acc: 0.9788\n",
            "Epoch 8/20\n",
            "60000/60000 [==============================] - 2s 34us/step - loss: 0.0212 - acc: 0.9932 - val_loss: 0.0663 - val_acc: 0.9826\n",
            "Epoch 9/20\n",
            "60000/60000 [==============================] - 2s 34us/step - loss: 0.0188 - acc: 0.9936 - val_loss: 0.0746 - val_acc: 0.9809\n",
            "Epoch 10/20\n",
            "60000/60000 [==============================] - 2s 34us/step - loss: 0.0132 - acc: 0.9956 - val_loss: 0.0744 - val_acc: 0.9814\n",
            "Epoch 11/20\n",
            "60000/60000 [==============================] - 2s 35us/step - loss: 0.0151 - acc: 0.9952 - val_loss: 0.0877 - val_acc: 0.9788\n",
            "Epoch 12/20\n",
            "60000/60000 [==============================] - 2s 34us/step - loss: 0.0155 - acc: 0.9948 - val_loss: 0.0787 - val_acc: 0.9825\n",
            "Epoch 13/20\n",
            "60000/60000 [==============================] - 2s 34us/step - loss: 0.0113 - acc: 0.9966 - val_loss: 0.1188 - val_acc: 0.9736\n",
            "Epoch 14/20\n",
            "60000/60000 [==============================] - 2s 34us/step - loss: 0.0113 - acc: 0.9962 - val_loss: 0.0921 - val_acc: 0.9789\n",
            "Epoch 15/20\n",
            "60000/60000 [==============================] - 2s 34us/step - loss: 0.0111 - acc: 0.9968 - val_loss: 0.0750 - val_acc: 0.9826\n",
            "Epoch 16/20\n",
            "60000/60000 [==============================] - 2s 34us/step - loss: 0.0080 - acc: 0.9976 - val_loss: 0.1019 - val_acc: 0.9790\n",
            "Epoch 17/20\n",
            "60000/60000 [==============================] - 2s 34us/step - loss: 0.0122 - acc: 0.9967 - val_loss: 0.0989 - val_acc: 0.9799\n",
            "Epoch 18/20\n",
            "60000/60000 [==============================] - 2s 34us/step - loss: 0.0087 - acc: 0.9974 - val_loss: 0.0776 - val_acc: 0.9823\n",
            "Epoch 19/20\n",
            "60000/60000 [==============================] - 2s 34us/step - loss: 0.0084 - acc: 0.9974 - val_loss: 0.0926 - val_acc: 0.9814\n",
            "Epoch 20/20\n",
            "60000/60000 [==============================] - 2s 34us/step - loss: 0.0112 - acc: 0.9963 - val_loss: 0.0861 - val_acc: 0.9826\n"
          ],
          "name": "stdout"
        }
      ]
    },
    {
      "cell_type": "code",
      "metadata": {
        "id": "w4rwwJrDB2h2",
        "colab_type": "code",
        "outputId": "2bf76ac5-0fa5-4a78-9af3-425299c97c17",
        "colab": {
          "base_uri": "https://localhost:8080/",
          "height": 278
        }
      },
      "source": [
        "model.summary()"
      ],
      "execution_count": 0,
      "outputs": [
        {
          "output_type": "stream",
          "text": [
            "_________________________________________________________________\n",
            "Layer (type)                 Output Shape              Param #   \n",
            "=================================================================\n",
            "dense_32 (Dense)             (None, 582)               456870    \n",
            "_________________________________________________________________\n",
            "dense_33 (Dense)             (None, 288)               167904    \n",
            "_________________________________________________________________\n",
            "dense_34 (Dense)             (None, 194)               56066     \n",
            "_________________________________________________________________\n",
            "dense_35 (Dense)             (None, 10)                1950      \n",
            "=================================================================\n",
            "Total params: 682,790\n",
            "Trainable params: 682,790\n",
            "Non-trainable params: 0\n",
            "_________________________________________________________________\n"
          ],
          "name": "stdout"
        }
      ]
    },
    {
      "cell_type": "code",
      "metadata": {
        "id": "_G702kl-B5JK",
        "colab_type": "code",
        "outputId": "2e2d35c1-8ef3-4131-be6c-d52d49b75a27",
        "colab": {
          "base_uri": "https://localhost:8080/",
          "height": 318
        }
      },
      "source": [
        "score = model.evaluate(X_test, Y_test, verbose=0) \n",
        "print('Test score:', score[0]) \n",
        "print('Test accuracy:', score[1])\n",
        "\n",
        "fig,ax = plt.subplots(1,1)\n",
        "ax.set_xlabel('epoch') ; ax.set_ylabel('Categorical Crossentropy Loss')\n",
        "\n",
        "# list of epoch numbers\n",
        "x = list(range(1,nb_epoch+1))\n",
        "\n",
        "# we will get val_loss and val_acc only when you pass the paramter validation_data\n",
        "# val_loss : validation loss\n",
        "# for each key in histrory.histrory we will have a list of length equal to number of epochs\n",
        "\n",
        "vy = history.history['val_loss']\n",
        "ty = history.history['loss']\n",
        "plt_dynamic(x, vy, ty, ax)"
      ],
      "execution_count": 0,
      "outputs": [
        {
          "output_type": "stream",
          "text": [
            "Test score: 0.08606561110741959\n",
            "Test accuracy: 0.9826\n"
          ],
          "name": "stdout"
        },
        {
          "output_type": "display_data",
          "data": {
            "image/png": "[encoded data removed]",
            "text/plain": [
              "<Figure size 432x288 with 1 Axes>"
            ]
          },
          "metadata": {
            "tags": []
          }
        }
      ]
    },
    {
      "cell_type": "markdown",
      "metadata": {
        "id": "oF3_lBuoB9uU",
        "colab_type": "text"
      },
      "source": [
        "## 784-582-388-194-10-SequentialModel + BN"
      ]
    },
    {
      "cell_type": "code",
      "metadata": {
        "id": "T4D1BBbLB8Ks",
        "colab_type": "code",
        "outputId": "98adf09c-4f2c-4b59-857d-f70597f0fc41",
        "colab": {
          "base_uri": "https://localhost:8080/",
          "height": 729
        }
      },
      "source": [
        "# some model parameters\n",
        "# keras.optimizers.Adam(lr=0.001, beta_1=0.9, beta_2=0.999, epsilon=None, decay=0.0, amsgrad=False)\n",
        "output_dim = 10\n",
        "input_dim = X_train.shape[1]\n",
        "batch_size = 128 \n",
        "nb_epoch = 20\n",
        "model = Sequential()\n",
        "model.add(Dense(582, input_dim = 784, activation='relu'))\n",
        "model.add(BatchNormalization())\n",
        "model.add(Dense(288, input_dim = 582, activation='relu'))\n",
        "model.add(BatchNormalization())\n",
        "model.add(Dense(194, input_dim = 288, activation='relu'))\n",
        "model.add(BatchNormalization())\n",
        "model.add(Dense(10, input_dim = 194, activation='softmax'))\n",
        "model.compile(optimizer='adam', loss='categorical_crossentropy', metrics=['accuracy'])\n",
        "history = model.fit(X_train, Y_train, batch_size=batch_size, epochs=nb_epoch, verbose=1, validation_data=(X_test, Y_test))"
      ],
      "execution_count": 0,
      "outputs": [
        {
          "output_type": "stream",
          "text": [
            "Train on 60000 samples, validate on 10000 samples\n",
            "Epoch 1/20\n",
            "60000/60000 [==============================] - 5s 82us/step - loss: 0.1755 - acc: 0.9461 - val_loss: 0.1142 - val_acc: 0.9635\n",
            "Epoch 2/20\n",
            "60000/60000 [==============================] - 4s 60us/step - loss: 0.0715 - acc: 0.9774 - val_loss: 0.0946 - val_acc: 0.9712\n",
            "Epoch 3/20\n",
            "60000/60000 [==============================] - 4s 59us/step - loss: 0.0480 - acc: 0.9849 - val_loss: 0.0819 - val_acc: 0.9744\n",
            "Epoch 4/20\n",
            "60000/60000 [==============================] - 4s 60us/step - loss: 0.0400 - acc: 0.9873 - val_loss: 0.0876 - val_acc: 0.9734\n",
            "Epoch 5/20\n",
            "60000/60000 [==============================] - 4s 60us/step - loss: 0.0341 - acc: 0.9885 - val_loss: 0.0890 - val_acc: 0.9742\n",
            "Epoch 6/20\n",
            "60000/60000 [==============================] - 4s 60us/step - loss: 0.0258 - acc: 0.9917 - val_loss: 0.0791 - val_acc: 0.9779\n",
            "Epoch 7/20\n",
            "60000/60000 [==============================] - 4s 60us/step - loss: 0.0235 - acc: 0.9919 - val_loss: 0.0939 - val_acc: 0.9724\n",
            "Epoch 8/20\n",
            "60000/60000 [==============================] - 4s 60us/step - loss: 0.0229 - acc: 0.9923 - val_loss: 0.0790 - val_acc: 0.9795\n",
            "Epoch 9/20\n",
            "60000/60000 [==============================] - 4s 60us/step - loss: 0.0222 - acc: 0.9925 - val_loss: 0.0806 - val_acc: 0.9781\n",
            "Epoch 10/20\n",
            "60000/60000 [==============================] - 4s 60us/step - loss: 0.0155 - acc: 0.9950 - val_loss: 0.0711 - val_acc: 0.9807\n",
            "Epoch 11/20\n",
            "60000/60000 [==============================] - 4s 60us/step - loss: 0.0142 - acc: 0.9952 - val_loss: 0.0777 - val_acc: 0.9802\n",
            "Epoch 12/20\n",
            "60000/60000 [==============================] - 4s 60us/step - loss: 0.0158 - acc: 0.9946 - val_loss: 0.0809 - val_acc: 0.9791\n",
            "Epoch 13/20\n",
            "60000/60000 [==============================] - 4s 62us/step - loss: 0.0172 - acc: 0.9939 - val_loss: 0.0838 - val_acc: 0.9809\n",
            "Epoch 14/20\n",
            "60000/60000 [==============================] - 4s 67us/step - loss: 0.0154 - acc: 0.9948 - val_loss: 0.0924 - val_acc: 0.9773\n",
            "Epoch 15/20\n",
            "60000/60000 [==============================] - 4s 68us/step - loss: 0.0100 - acc: 0.9965 - val_loss: 0.0730 - val_acc: 0.9834\n",
            "Epoch 16/20\n",
            "60000/60000 [==============================] - 4s 61us/step - loss: 0.0090 - acc: 0.9969 - val_loss: 0.0844 - val_acc: 0.9812\n",
            "Epoch 17/20\n",
            "60000/60000 [==============================] - 4s 60us/step - loss: 0.0131 - acc: 0.9954 - val_loss: 0.0750 - val_acc: 0.9814\n",
            "Epoch 18/20\n",
            "60000/60000 [==============================] - 4s 60us/step - loss: 0.0095 - acc: 0.9968 - val_loss: 0.0894 - val_acc: 0.9796\n",
            "Epoch 19/20\n",
            "60000/60000 [==============================] - 4s 59us/step - loss: 0.0112 - acc: 0.9962 - val_loss: 0.0928 - val_acc: 0.9783\n",
            "Epoch 20/20\n",
            "60000/60000 [==============================] - 4s 60us/step - loss: 0.0076 - acc: 0.9975 - val_loss: 0.0752 - val_acc: 0.9822\n"
          ],
          "name": "stdout"
        }
      ]
    },
    {
      "cell_type": "code",
      "metadata": {
        "id": "J_A1bKJACP6k",
        "colab_type": "code",
        "outputId": "c3995c6e-29f6-4388-a70c-87c85516596e",
        "colab": {
          "base_uri": "https://localhost:8080/",
          "height": 382
        }
      },
      "source": [
        "model.summary()"
      ],
      "execution_count": 0,
      "outputs": [
        {
          "output_type": "stream",
          "text": [
            "_________________________________________________________________\n",
            "Layer (type)                 Output Shape              Param #   \n",
            "=================================================================\n",
            "dense_36 (Dense)             (None, 582)               456870    \n",
            "_________________________________________________________________\n",
            "batch_normalization_5 (Batch (None, 582)               2328      \n",
            "_________________________________________________________________\n",
            "dense_37 (Dense)             (None, 288)               167904    \n",
            "_________________________________________________________________\n",
            "batch_normalization_6 (Batch (None, 288)               1152      \n",
            "_________________________________________________________________\n",
            "dense_38 (Dense)             (None, 194)               56066     \n",
            "_________________________________________________________________\n",
            "batch_normalization_7 (Batch (None, 194)               776       \n",
            "_________________________________________________________________\n",
            "dense_39 (Dense)             (None, 10)                1950      \n",
            "=================================================================\n",
            "Total params: 687,046\n",
            "Trainable params: 684,918\n",
            "Non-trainable params: 2,128\n",
            "_________________________________________________________________\n"
          ],
          "name": "stdout"
        }
      ]
    },
    {
      "cell_type": "code",
      "metadata": {
        "id": "55uE0e6ACRWu",
        "colab_type": "code",
        "outputId": "b297fc3a-631e-4e68-c359-dab7783e15ec",
        "colab": {
          "base_uri": "https://localhost:8080/",
          "height": 318
        }
      },
      "source": [
        "score = model.evaluate(X_test, Y_test, verbose=0) \n",
        "print('Test score:', score[0]) \n",
        "print('Test accuracy:', score[1])\n",
        "\n",
        "fig,ax = plt.subplots(1,1)\n",
        "ax.set_xlabel('epoch') ; ax.set_ylabel('Categorical Crossentropy Loss')\n",
        "\n",
        "# list of epoch numbers\n",
        "x = list(range(1,nb_epoch+1))\n",
        "\n",
        "# we will get val_loss and val_acc only when you pass the paramter validation_data\n",
        "# val_loss : validation loss\n",
        "# for each key in histrory.histrory we will have a list of length equal to number of epochs\n",
        "\n",
        "vy = history.history['val_loss']\n",
        "ty = history.history['loss']\n",
        "plt_dynamic(x, vy, ty, ax)"
      ],
      "execution_count": 0,
      "outputs": [
        {
          "output_type": "stream",
          "text": [
            "Test score: 0.07521539941053489\n",
            "Test accuracy: 0.9822\n"
          ],
          "name": "stdout"
        },
        {
          "output_type": "display_data",
          "data": {
            "image/png": "[encoded data removed]",
            "text/plain": [
              "<Figure size 432x288 with 1 Axes>"
            ]
          },
          "metadata": {
            "tags": []
          }
        }
      ]
    },
    {
      "cell_type": "markdown",
      "metadata": {
        "id": "YEGK84THCT38",
        "colab_type": "text"
      },
      "source": [
        "## 784-582-388-194-10-SequentialModel + Dropout"
      ]
    },
    {
      "cell_type": "code",
      "metadata": {
        "id": "zfpCjC_CCYud",
        "colab_type": "code",
        "outputId": "806f0f4e-cec9-4733-9409-1c4dad2c5861",
        "colab": {
          "base_uri": "https://localhost:8080/",
          "height": 729
        }
      },
      "source": [
        "# some model parameters\n",
        "# keras.optimizers.Adam(lr=0.001, beta_1=0.9, beta_2=0.999, epsilon=None, decay=0.0, amsgrad=False)\n",
        "output_dim = 10\n",
        "input_dim = X_train.shape[1]\n",
        "batch_size = 128 \n",
        "nb_epoch = 20\n",
        "model = Sequential()\n",
        "model.add(Dense(582, input_dim = 784, activation='relu'))\n",
        "model.add(Dropout(.5))\n",
        "model.add(Dense(288, input_dim = 582, activation='relu'))\n",
        "model.add(Dropout(.5))\n",
        "model.add(Dense(194, input_dim = 288, activation='relu'))\n",
        "model.add(Dropout(.5))\n",
        "model.add(Dense(10, input_dim = 194, activation='softmax'))\n",
        "model.compile(optimizer='adam', loss='categorical_crossentropy', metrics=['accuracy'])\n",
        "history = model.fit(X_train, Y_train, batch_size=batch_size, epochs=nb_epoch, verbose=1, validation_data=(X_test, Y_test))"
      ],
      "execution_count": 0,
      "outputs": [
        {
          "output_type": "stream",
          "text": [
            "Train on 60000 samples, validate on 10000 samples\n",
            "Epoch 1/20\n",
            "60000/60000 [==============================] - 3s 56us/step - loss: 0.4954 - acc: 0.8434 - val_loss: 0.1433 - val_acc: 0.9559\n",
            "Epoch 2/20\n",
            "60000/60000 [==============================] - 2s 37us/step - loss: 0.2096 - acc: 0.9407 - val_loss: 0.1183 - val_acc: 0.9657\n",
            "Epoch 3/20\n",
            "60000/60000 [==============================] - 2s 37us/step - loss: 0.1647 - acc: 0.9541 - val_loss: 0.0900 - val_acc: 0.9724\n",
            "Epoch 4/20\n",
            "60000/60000 [==============================] - 2s 37us/step - loss: 0.1403 - acc: 0.9594 - val_loss: 0.0925 - val_acc: 0.9711\n",
            "Epoch 5/20\n",
            "60000/60000 [==============================] - 2s 38us/step - loss: 0.1194 - acc: 0.9659 - val_loss: 0.0754 - val_acc: 0.9768\n",
            "Epoch 6/20\n",
            "60000/60000 [==============================] - 2s 37us/step - loss: 0.1107 - acc: 0.9679 - val_loss: 0.0749 - val_acc: 0.9778\n",
            "Epoch 7/20\n",
            "60000/60000 [==============================] - 2s 37us/step - loss: 0.1019 - acc: 0.9703 - val_loss: 0.0692 - val_acc: 0.9794\n",
            "Epoch 8/20\n",
            "60000/60000 [==============================] - 2s 37us/step - loss: 0.0947 - acc: 0.9720 - val_loss: 0.0673 - val_acc: 0.9811\n",
            "Epoch 9/20\n",
            "60000/60000 [==============================] - 2s 37us/step - loss: 0.0862 - acc: 0.9750 - val_loss: 0.0741 - val_acc: 0.9793\n",
            "Epoch 10/20\n",
            "60000/60000 [==============================] - 2s 38us/step - loss: 0.0843 - acc: 0.9754 - val_loss: 0.0682 - val_acc: 0.9805\n",
            "Epoch 11/20\n",
            "60000/60000 [==============================] - 2s 39us/step - loss: 0.0787 - acc: 0.9769 - val_loss: 0.0658 - val_acc: 0.9802\n",
            "Epoch 12/20\n",
            "60000/60000 [==============================] - 2s 39us/step - loss: 0.0774 - acc: 0.9775 - val_loss: 0.0613 - val_acc: 0.9827\n",
            "Epoch 13/20\n",
            "60000/60000 [==============================] - 2s 38us/step - loss: 0.0726 - acc: 0.9778 - val_loss: 0.0638 - val_acc: 0.9818\n",
            "Epoch 14/20\n",
            "60000/60000 [==============================] - 2s 37us/step - loss: 0.0678 - acc: 0.9802 - val_loss: 0.0626 - val_acc: 0.9827\n",
            "Epoch 15/20\n",
            "60000/60000 [==============================] - 2s 37us/step - loss: 0.0688 - acc: 0.9797 - val_loss: 0.0598 - val_acc: 0.9835\n",
            "Epoch 16/20\n",
            "60000/60000 [==============================] - 2s 37us/step - loss: 0.0648 - acc: 0.9809 - val_loss: 0.0630 - val_acc: 0.9811\n",
            "Epoch 17/20\n",
            "60000/60000 [==============================] - 2s 37us/step - loss: 0.0657 - acc: 0.9807 - val_loss: 0.0607 - val_acc: 0.9831\n",
            "Epoch 18/20\n",
            "60000/60000 [==============================] - 2s 40us/step - loss: 0.0603 - acc: 0.9819 - val_loss: 0.0630 - val_acc: 0.9833\n",
            "Epoch 19/20\n",
            "60000/60000 [==============================] - 3s 43us/step - loss: 0.0610 - acc: 0.9828 - val_loss: 0.0707 - val_acc: 0.9824\n",
            "Epoch 20/20\n",
            "60000/60000 [==============================] - 2s 40us/step - loss: 0.0543 - acc: 0.9833 - val_loss: 0.0668 - val_acc: 0.9834\n"
          ],
          "name": "stdout"
        }
      ]
    },
    {
      "cell_type": "code",
      "metadata": {
        "id": "kzr3LYitCf-u",
        "colab_type": "code",
        "outputId": "c3138992-ac90-4e35-ecf0-ed58a228190b",
        "colab": {
          "base_uri": "https://localhost:8080/",
          "height": 382
        }
      },
      "source": [
        "model.summary()"
      ],
      "execution_count": 0,
      "outputs": [
        {
          "output_type": "stream",
          "text": [
            "_________________________________________________________________\n",
            "Layer (type)                 Output Shape              Param #   \n",
            "=================================================================\n",
            "dense_40 (Dense)             (None, 582)               456870    \n",
            "_________________________________________________________________\n",
            "dropout_5 (Dropout)          (None, 582)               0         \n",
            "_________________________________________________________________\n",
            "dense_41 (Dense)             (None, 288)               167904    \n",
            "_________________________________________________________________\n",
            "dropout_6 (Dropout)          (None, 288)               0         \n",
            "_________________________________________________________________\n",
            "dense_42 (Dense)             (None, 194)               56066     \n",
            "_________________________________________________________________\n",
            "dropout_7 (Dropout)          (None, 194)               0         \n",
            "_________________________________________________________________\n",
            "dense_43 (Dense)             (None, 10)                1950      \n",
            "=================================================================\n",
            "Total params: 682,790\n",
            "Trainable params: 682,790\n",
            "Non-trainable params: 0\n",
            "_________________________________________________________________\n"
          ],
          "name": "stdout"
        }
      ]
    },
    {
      "cell_type": "code",
      "metadata": {
        "id": "bAaGMasMChDL",
        "colab_type": "code",
        "outputId": "ca9dc699-7dc6-456f-e62d-9f93c3865ce9",
        "colab": {
          "base_uri": "https://localhost:8080/",
          "height": 318
        }
      },
      "source": [
        "score = model.evaluate(X_test, Y_test, verbose=0) \n",
        "print('Test score:', score[0]) \n",
        "print('Test accuracy:', score[1])\n",
        "\n",
        "fig,ax = plt.subplots(1,1)\n",
        "ax.set_xlabel('epoch') ; ax.set_ylabel('Categorical Crossentropy Loss')\n",
        "\n",
        "# list of epoch numbers\n",
        "x = list(range(1,nb_epoch+1))\n",
        "\n",
        "# we will get val_loss and val_acc only when you pass the paramter validation_data\n",
        "# val_loss : validation loss\n",
        "# for each key in histrory.histrory we will have a list of length equal to number of epochs\n",
        "\n",
        "vy = history.history['val_loss']\n",
        "ty = history.history['loss']\n",
        "plt_dynamic(x, vy, ty, ax)"
      ],
      "execution_count": 0,
      "outputs": [
        {
          "output_type": "stream",
          "text": [
            "Test score: 0.06682071717691342\n",
            "Test accuracy: 0.9834\n"
          ],
          "name": "stdout"
        },
        {
          "output_type": "display_data",
          "data": {
            "image/png": "[encoded data removed]",
            "text/plain": [
              "<Figure size 432x288 with 1 Axes>"
            ]
          },
          "metadata": {
            "tags": []
          }
        }
      ]
    },
    {
      "cell_type": "markdown",
      "metadata": {
        "id": "FeyrL1eOCjV2",
        "colab_type": "text"
      },
      "source": [
        "## 784-582-388-194-10-SequentialModel + Dropout + BN"
      ]
    },
    {
      "cell_type": "code",
      "metadata": {
        "id": "Nf3hGfzRCmpu",
        "colab_type": "code",
        "outputId": "4c9203b8-006c-4e63-f8a3-877e040618dd",
        "colab": {
          "base_uri": "https://localhost:8080/",
          "height": 729
        }
      },
      "source": [
        "# some model parameters\n",
        "# keras.optimizers.Adam(lr=0.001, beta_1=0.9, beta_2=0.999, epsilon=None, decay=0.0, amsgrad=False)\n",
        "output_dim = 10\n",
        "input_dim = X_train.shape[1]\n",
        "batch_size = 128 \n",
        "nb_epoch = 20\n",
        "model = Sequential()\n",
        "model.add(Dense(582, input_dim = 784, activation='relu'))\n",
        "model.add(BatchNormalization())\n",
        "model.add(Dropout(.5))\n",
        "model.add(Dense(288, input_dim = 582, activation='relu'))\n",
        "model.add(BatchNormalization())\n",
        "model.add(Dropout(.5))\n",
        "model.add(Dense(194, input_dim = 288, activation='relu'))\n",
        "model.add(BatchNormalization())\n",
        "model.add(Dropout(.5))\n",
        "model.add(Dense(10, input_dim = 194, activation='softmax'))\n",
        "model.compile(optimizer='adam', loss='categorical_crossentropy', metrics=['accuracy'])\n",
        "history = model.fit(X_train, Y_train, batch_size=batch_size, epochs=nb_epoch, verbose=1, validation_data=(X_test, Y_test))"
      ],
      "execution_count": 0,
      "outputs": [
        {
          "output_type": "stream",
          "text": [
            "Train on 60000 samples, validate on 10000 samples\n",
            "Epoch 1/20\n",
            "60000/60000 [==============================] - 6s 93us/step - loss: 0.4911 - acc: 0.8504 - val_loss: 0.1405 - val_acc: 0.9553\n",
            "Epoch 2/20\n",
            "60000/60000 [==============================] - 4s 62us/step - loss: 0.2236 - acc: 0.9336 - val_loss: 0.1086 - val_acc: 0.9656\n",
            "Epoch 3/20\n",
            "60000/60000 [==============================] - 4s 63us/step - loss: 0.1691 - acc: 0.9493 - val_loss: 0.1013 - val_acc: 0.9696\n",
            "Epoch 4/20\n",
            "60000/60000 [==============================] - 4s 69us/step - loss: 0.1469 - acc: 0.9552 - val_loss: 0.0857 - val_acc: 0.9738\n",
            "Epoch 5/20\n",
            "60000/60000 [==============================] - 4s 74us/step - loss: 0.1276 - acc: 0.9614 - val_loss: 0.0799 - val_acc: 0.9757\n",
            "Epoch 6/20\n",
            "60000/60000 [==============================] - 4s 72us/step - loss: 0.1192 - acc: 0.9643 - val_loss: 0.0769 - val_acc: 0.9768\n",
            "Epoch 7/20\n",
            "60000/60000 [==============================] - 4s 63us/step - loss: 0.1096 - acc: 0.9667 - val_loss: 0.0735 - val_acc: 0.9783\n",
            "Epoch 8/20\n",
            "60000/60000 [==============================] - 4s 63us/step - loss: 0.0989 - acc: 0.9700 - val_loss: 0.0703 - val_acc: 0.9796\n",
            "Epoch 9/20\n",
            "60000/60000 [==============================] - 4s 63us/step - loss: 0.0953 - acc: 0.9706 - val_loss: 0.0693 - val_acc: 0.9801\n",
            "Epoch 10/20\n",
            "60000/60000 [==============================] - 4s 62us/step - loss: 0.0898 - acc: 0.9726 - val_loss: 0.0655 - val_acc: 0.9803\n",
            "Epoch 11/20\n",
            "60000/60000 [==============================] - 4s 63us/step - loss: 0.0817 - acc: 0.9746 - val_loss: 0.0670 - val_acc: 0.9811\n",
            "Epoch 12/20\n",
            "60000/60000 [==============================] - 4s 63us/step - loss: 0.0822 - acc: 0.9743 - val_loss: 0.0693 - val_acc: 0.9797\n",
            "Epoch 13/20\n",
            "60000/60000 [==============================] - 4s 63us/step - loss: 0.0774 - acc: 0.9758 - val_loss: 0.0634 - val_acc: 0.9807\n",
            "Epoch 14/20\n",
            "60000/60000 [==============================] - 4s 63us/step - loss: 0.0749 - acc: 0.9767 - val_loss: 0.0585 - val_acc: 0.9814\n",
            "Epoch 15/20\n",
            "60000/60000 [==============================] - 4s 63us/step - loss: 0.0703 - acc: 0.9779 - val_loss: 0.0597 - val_acc: 0.9833\n",
            "Epoch 16/20\n",
            "60000/60000 [==============================] - 4s 63us/step - loss: 0.0680 - acc: 0.9795 - val_loss: 0.0591 - val_acc: 0.9828\n",
            "Epoch 17/20\n",
            "60000/60000 [==============================] - 4s 63us/step - loss: 0.0663 - acc: 0.9790 - val_loss: 0.0607 - val_acc: 0.9833\n",
            "Epoch 18/20\n",
            "60000/60000 [==============================] - 4s 63us/step - loss: 0.0634 - acc: 0.9802 - val_loss: 0.0593 - val_acc: 0.9826\n",
            "Epoch 19/20\n",
            "60000/60000 [==============================] - 4s 70us/step - loss: 0.0593 - acc: 0.9821 - val_loss: 0.0614 - val_acc: 0.9816\n",
            "Epoch 20/20\n",
            "60000/60000 [==============================] - 4s 72us/step - loss: 0.0585 - acc: 0.9820 - val_loss: 0.0598 - val_acc: 0.9835\n"
          ],
          "name": "stdout"
        }
      ]
    },
    {
      "cell_type": "code",
      "metadata": {
        "id": "RT2zarGqCw8p",
        "colab_type": "code",
        "outputId": "fe550897-76de-43cf-bbe7-f5d12938e98c",
        "colab": {
          "base_uri": "https://localhost:8080/",
          "height": 486
        }
      },
      "source": [
        "model.summary()"
      ],
      "execution_count": 0,
      "outputs": [
        {
          "output_type": "stream",
          "text": [
            "_________________________________________________________________\n",
            "Layer (type)                 Output Shape              Param #   \n",
            "=================================================================\n",
            "dense_44 (Dense)             (None, 582)               456870    \n",
            "_________________________________________________________________\n",
            "batch_normalization_8 (Batch (None, 582)               2328      \n",
            "_________________________________________________________________\n",
            "dropout_8 (Dropout)          (None, 582)               0         \n",
            "_________________________________________________________________\n",
            "dense_45 (Dense)             (None, 288)               167904    \n",
            "_________________________________________________________________\n",
            "batch_normalization_9 (Batch (None, 288)               1152      \n",
            "_________________________________________________________________\n",
            "dropout_9 (Dropout)          (None, 288)               0         \n",
            "_________________________________________________________________\n",
            "dense_46 (Dense)             (None, 194)               56066     \n",
            "_________________________________________________________________\n",
            "batch_normalization_10 (Batc (None, 194)               776       \n",
            "_________________________________________________________________\n",
            "dropout_10 (Dropout)         (None, 194)               0         \n",
            "_________________________________________________________________\n",
            "dense_47 (Dense)             (None, 10)                1950      \n",
            "=================================================================\n",
            "Total params: 687,046\n",
            "Trainable params: 684,918\n",
            "Non-trainable params: 2,128\n",
            "_________________________________________________________________\n"
          ],
          "name": "stdout"
        }
      ]
    },
    {
      "cell_type": "code",
      "metadata": {
        "id": "Q3vq9FApCyUx",
        "colab_type": "code",
        "outputId": "1e0dba02-7bb8-4bf4-c913-54460872d072",
        "colab": {
          "base_uri": "https://localhost:8080/",
          "height": 318
        }
      },
      "source": [
        "score = model.evaluate(X_test, Y_test, verbose=0) \n",
        "print('Test score:', score[0]) \n",
        "print('Test accuracy:', score[1])\n",
        "\n",
        "fig,ax = plt.subplots(1,1)\n",
        "ax.set_xlabel('epoch') ; ax.set_ylabel('Categorical Crossentropy Loss')\n",
        "\n",
        "# list of epoch numbers\n",
        "x = list(range(1,nb_epoch+1))\n",
        "\n",
        "# we will get val_loss and val_acc only when you pass the paramter validation_data\n",
        "# val_loss : validation loss\n",
        "# for each key in histrory.histrory we will have a list of length equal to number of epochs\n",
        "\n",
        "vy = history.history['val_loss']\n",
        "ty = history.history['loss']\n",
        "plt_dynamic(x, vy, ty, ax)"
      ],
      "execution_count": 0,
      "outputs": [
        {
          "output_type": "stream",
          "text": [
            "Test score: 0.05983107085300144\n",
            "Test accuracy: 0.9835\n"
          ],
          "name": "stdout"
        },
        {
          "output_type": "display_data",
          "data": {
            "image/png": "[encoded data removed]",
            "text/plain": [
              "<Figure size 432x288 with 1 Axes>"
            ]
          },
          "metadata": {
            "tags": []
          }
        }
      ]
    },
    {
      "cell_type": "markdown",
      "metadata": {
        "id": "A_eVbrmAC6NC",
        "colab_type": "text"
      },
      "source": [
        "# Model Genration 5 Hidden Layer\n",
        "## 784-645-516-387-258-129-10-SequentialModel"
      ]
    },
    {
      "cell_type": "code",
      "metadata": {
        "id": "22fEVGg_DGiZ",
        "colab_type": "code",
        "outputId": "a55e481b-b02f-45d6-a09f-f0de0b223c7c",
        "colab": {
          "base_uri": "https://localhost:8080/",
          "height": 729
        }
      },
      "source": [
        "# some model parameters\n",
        "# keras.optimizers.Adam(lr=0.001, beta_1=0.9, beta_2=0.999, epsilon=None, decay=0.0, amsgrad=False)\n",
        "output_dim = 10\n",
        "input_dim = X_train.shape[1]\n",
        "batch_size = 128 \n",
        "nb_epoch = 20\n",
        "model = Sequential()\n",
        "model.add(Dense(645, input_dim = 784, activation='relu'))\n",
        "model.add(Dense(516, input_dim = 645, activation='relu'))\n",
        "model.add(Dense(387, input_dim = 516, activation='relu'))\n",
        "model.add(Dense(258, input_dim = 387, activation='relu'))\n",
        "model.add(Dense(129, input_dim = 258, activation='relu'))\n",
        "model.add(Dense(10, input_dim = 129, activation='softmax'))\n",
        "model.compile(optimizer='adam', loss='categorical_crossentropy', metrics=['accuracy'])\n",
        "history = model.fit(X_train, Y_train, batch_size=batch_size, epochs=nb_epoch, verbose=1, validation_data=(X_test, Y_test))"
      ],
      "execution_count": 0,
      "outputs": [
        {
          "output_type": "stream",
          "text": [
            "Train on 60000 samples, validate on 10000 samples\n",
            "Epoch 1/20\n",
            "60000/60000 [==============================] - 5s 82us/step - loss: 0.2297 - acc: 0.9313 - val_loss: 0.1040 - val_acc: 0.9674\n",
            "Epoch 2/20\n",
            "60000/60000 [==============================] - 2s 41us/step - loss: 0.0947 - acc: 0.9720 - val_loss: 0.1143 - val_acc: 0.9651\n",
            "Epoch 3/20\n",
            "60000/60000 [==============================] - 2s 41us/step - loss: 0.0636 - acc: 0.9805 - val_loss: 0.0905 - val_acc: 0.9720\n",
            "Epoch 4/20\n",
            "60000/60000 [==============================] - 2s 41us/step - loss: 0.0502 - acc: 0.9842 - val_loss: 0.0878 - val_acc: 0.9754\n",
            "Epoch 5/20\n",
            "60000/60000 [==============================] - 2s 41us/step - loss: 0.0405 - acc: 0.9877 - val_loss: 0.0783 - val_acc: 0.9779\n",
            "Epoch 6/20\n",
            "60000/60000 [==============================] - 2s 41us/step - loss: 0.0336 - acc: 0.9897 - val_loss: 0.0881 - val_acc: 0.9795\n",
            "Epoch 7/20\n",
            "60000/60000 [==============================] - 2s 41us/step - loss: 0.0287 - acc: 0.9913 - val_loss: 0.0951 - val_acc: 0.9784\n",
            "Epoch 8/20\n",
            "60000/60000 [==============================] - 2s 41us/step - loss: 0.0255 - acc: 0.9920 - val_loss: 0.0816 - val_acc: 0.9802\n",
            "Epoch 9/20\n",
            "60000/60000 [==============================] - 2s 41us/step - loss: 0.0237 - acc: 0.9934 - val_loss: 0.0749 - val_acc: 0.9832\n",
            "Epoch 10/20\n",
            "60000/60000 [==============================] - 3s 46us/step - loss: 0.0202 - acc: 0.9942 - val_loss: 0.1122 - val_acc: 0.9777\n",
            "Epoch 11/20\n",
            "60000/60000 [==============================] - 3s 48us/step - loss: 0.0178 - acc: 0.9946 - val_loss: 0.0920 - val_acc: 0.9789\n",
            "Epoch 12/20\n",
            "60000/60000 [==============================] - 3s 49us/step - loss: 0.0191 - acc: 0.9944 - val_loss: 0.0970 - val_acc: 0.9799\n",
            "Epoch 13/20\n",
            "60000/60000 [==============================] - 3s 48us/step - loss: 0.0170 - acc: 0.9951 - val_loss: 0.0831 - val_acc: 0.9806\n",
            "Epoch 14/20\n",
            "60000/60000 [==============================] - 3s 46us/step - loss: 0.0135 - acc: 0.9961 - val_loss: 0.0812 - val_acc: 0.9818\n",
            "Epoch 15/20\n",
            "60000/60000 [==============================] - 3s 46us/step - loss: 0.0147 - acc: 0.9959 - val_loss: 0.1077 - val_acc: 0.9796\n",
            "Epoch 16/20\n",
            "60000/60000 [==============================] - 3s 46us/step - loss: 0.0160 - acc: 0.9954 - val_loss: 0.1003 - val_acc: 0.9814\n",
            "Epoch 17/20\n",
            "60000/60000 [==============================] - 2s 41us/step - loss: 0.0147 - acc: 0.9955 - val_loss: 0.0883 - val_acc: 0.9809\n",
            "Epoch 18/20\n",
            "60000/60000 [==============================] - 2s 41us/step - loss: 0.0087 - acc: 0.9975 - val_loss: 0.1032 - val_acc: 0.9811\n",
            "Epoch 19/20\n",
            "60000/60000 [==============================] - 2s 41us/step - loss: 0.0141 - acc: 0.9962 - val_loss: 0.1206 - val_acc: 0.9783\n",
            "Epoch 20/20\n",
            "60000/60000 [==============================] - 2s 41us/step - loss: 0.0128 - acc: 0.9967 - val_loss: 0.0923 - val_acc: 0.9806\n"
          ],
          "name": "stdout"
        }
      ]
    },
    {
      "cell_type": "code",
      "metadata": {
        "id": "UTq1kFoqDera",
        "colab_type": "code",
        "outputId": "e2ed8155-49f4-4079-f0ea-6d2cb3c8754e",
        "colab": {
          "base_uri": "https://localhost:8080/",
          "height": 347
        }
      },
      "source": [
        "model.summary()"
      ],
      "execution_count": 0,
      "outputs": [
        {
          "output_type": "stream",
          "text": [
            "_________________________________________________________________\n",
            "Layer (type)                 Output Shape              Param #   \n",
            "=================================================================\n",
            "dense_79 (Dense)             (None, 645)               506325    \n",
            "_________________________________________________________________\n",
            "dense_80 (Dense)             (None, 516)               333336    \n",
            "_________________________________________________________________\n",
            "dense_81 (Dense)             (None, 387)               200079    \n",
            "_________________________________________________________________\n",
            "dense_82 (Dense)             (None, 258)               100104    \n",
            "_________________________________________________________________\n",
            "dense_83 (Dense)             (None, 129)               33411     \n",
            "_________________________________________________________________\n",
            "dense_84 (Dense)             (None, 10)                1300      \n",
            "=================================================================\n",
            "Total params: 1,174,555\n",
            "Trainable params: 1,174,555\n",
            "Non-trainable params: 0\n",
            "_________________________________________________________________\n"
          ],
          "name": "stdout"
        }
      ]
    },
    {
      "cell_type": "code",
      "metadata": {
        "id": "IlhrIs5wDgMd",
        "colab_type": "code",
        "outputId": "59acbf9b-62cd-4f63-a35e-8078e9ff9fc7",
        "colab": {
          "base_uri": "https://localhost:8080/",
          "height": 318
        }
      },
      "source": [
        "score = model.evaluate(X_test, Y_test, verbose=0) \n",
        "print('Test score:', score[0]) \n",
        "print('Test accuracy:', score[1])\n",
        "\n",
        "fig,ax = plt.subplots(1,1)\n",
        "ax.set_xlabel('epoch') ; ax.set_ylabel('Categorical Crossentropy Loss')\n",
        "\n",
        "# list of epoch numbers\n",
        "x = list(range(1,nb_epoch+1))\n",
        "\n",
        "# we will get val_loss and val_acc only when you pass the paramter validation_data\n",
        "# val_loss : validation loss\n",
        "# for each key in histrory.histrory we will have a list of length equal to number of epochs\n",
        "\n",
        "vy = history.history['val_loss']\n",
        "ty = history.history['loss']\n",
        "plt_dynamic(x, vy, ty, ax)"
      ],
      "execution_count": 0,
      "outputs": [
        {
          "output_type": "stream",
          "text": [
            "Test score: 0.092317029833065\n",
            "Test accuracy: 0.9806\n"
          ],
          "name": "stdout"
        },
        {
          "output_type": "display_data",
          "data": {
            "image/png": "[encoded data removed]",
            "text/plain": [
              "<Figure size 432x288 with 1 Axes>"
            ]
          },
          "metadata": {
            "tags": []
          }
        }
      ]
    },
    {
      "cell_type": "markdown",
      "metadata": {
        "id": "4_pI7qeJDj2i",
        "colab_type": "text"
      },
      "source": [
        "## 784-645-516-387-258-129-10-SequentialModel + BN"
      ]
    },
    {
      "cell_type": "code",
      "metadata": {
        "id": "bHQEh6YPDjE3",
        "colab_type": "code",
        "outputId": "4db3c62c-47b1-4cf5-edf4-e81973d2eb7d",
        "colab": {
          "base_uri": "https://localhost:8080/",
          "height": 729
        }
      },
      "source": [
        "# some model parameters\n",
        "# keras.optimizers.Adam(lr=0.001, beta_1=0.9, beta_2=0.999, epsilon=None, decay=0.0, amsgrad=False)\n",
        "output_dim = 10\n",
        "input_dim = X_train.shape[1]\n",
        "batch_size = 128 \n",
        "nb_epoch = 20\n",
        "model = Sequential()\n",
        "model.add(Dense(645, input_dim = 784, activation='relu'))\n",
        "model.add(BatchNormalization())\n",
        "model.add(Dense(516, input_dim = 645, activation='relu'))\n",
        "model.add(BatchNormalization())\n",
        "model.add(Dense(387, input_dim = 516, activation='relu'))\n",
        "model.add(BatchNormalization())\n",
        "model.add(Dense(258, input_dim = 387, activation='relu'))\n",
        "model.add(BatchNormalization())\n",
        "model.add(Dense(129, input_dim = 258, activation='relu'))\n",
        "model.add(BatchNormalization())\n",
        "model.add(Dense(10, input_dim = 129, activation='softmax'))\n",
        "model.compile(optimizer='adam', loss='categorical_crossentropy', metrics=['accuracy'])\n",
        "history = model.fit(X_train, Y_train, batch_size=batch_size, epochs=nb_epoch, verbose=1, validation_data=(X_test, Y_test))"
      ],
      "execution_count": 0,
      "outputs": [
        {
          "output_type": "stream",
          "text": [
            "Train on 60000 samples, validate on 10000 samples\n",
            "Epoch 1/20\n",
            "60000/60000 [==============================] - 10s 164us/step - loss: 0.1827 - acc: 0.9437 - val_loss: 0.1072 - val_acc: 0.9671\n",
            "Epoch 2/20\n",
            "60000/60000 [==============================] - 6s 99us/step - loss: 0.0848 - acc: 0.9728 - val_loss: 0.0891 - val_acc: 0.9713\n",
            "Epoch 3/20\n",
            "60000/60000 [==============================] - 5s 89us/step - loss: 0.0633 - acc: 0.9796 - val_loss: 0.1016 - val_acc: 0.9695\n",
            "Epoch 4/20\n",
            "60000/60000 [==============================] - 6s 99us/step - loss: 0.0493 - acc: 0.9843 - val_loss: 0.0767 - val_acc: 0.9762\n",
            "Epoch 5/20\n",
            "60000/60000 [==============================] - 5s 87us/step - loss: 0.0433 - acc: 0.9862 - val_loss: 0.0902 - val_acc: 0.9740\n",
            "Epoch 6/20\n",
            "60000/60000 [==============================] - 5s 86us/step - loss: 0.0373 - acc: 0.9878 - val_loss: 0.0681 - val_acc: 0.9798\n",
            "Epoch 7/20\n",
            "60000/60000 [==============================] - 5s 86us/step - loss: 0.0345 - acc: 0.9886 - val_loss: 0.0706 - val_acc: 0.9794\n",
            "Epoch 8/20\n",
            "60000/60000 [==============================] - 5s 86us/step - loss: 0.0298 - acc: 0.9904 - val_loss: 0.0694 - val_acc: 0.9807\n",
            "Epoch 9/20\n",
            "60000/60000 [==============================] - 5s 86us/step - loss: 0.0265 - acc: 0.9911 - val_loss: 0.0901 - val_acc: 0.9757\n",
            "Epoch 10/20\n",
            "60000/60000 [==============================] - 5s 87us/step - loss: 0.0245 - acc: 0.9920 - val_loss: 0.0818 - val_acc: 0.9780\n",
            "Epoch 11/20\n",
            "60000/60000 [==============================] - 5s 87us/step - loss: 0.0235 - acc: 0.9922 - val_loss: 0.0701 - val_acc: 0.9807\n",
            "Epoch 12/20\n",
            "60000/60000 [==============================] - 5s 87us/step - loss: 0.0217 - acc: 0.9933 - val_loss: 0.0838 - val_acc: 0.9791\n",
            "Epoch 13/20\n",
            "60000/60000 [==============================] - 5s 87us/step - loss: 0.0212 - acc: 0.9928 - val_loss: 0.0726 - val_acc: 0.9798\n",
            "Epoch 14/20\n",
            "60000/60000 [==============================] - 5s 87us/step - loss: 0.0176 - acc: 0.9942 - val_loss: 0.0872 - val_acc: 0.9781\n",
            "Epoch 15/20\n",
            "60000/60000 [==============================] - 5s 86us/step - loss: 0.0175 - acc: 0.9941 - val_loss: 0.0742 - val_acc: 0.9793\n",
            "Epoch 16/20\n",
            "60000/60000 [==============================] - 5s 90us/step - loss: 0.0167 - acc: 0.9946 - val_loss: 0.0619 - val_acc: 0.9834\n",
            "Epoch 17/20\n",
            "60000/60000 [==============================] - 6s 98us/step - loss: 0.0152 - acc: 0.9949 - val_loss: 0.0946 - val_acc: 0.9781\n",
            "Epoch 18/20\n",
            "60000/60000 [==============================] - 6s 92us/step - loss: 0.0153 - acc: 0.9948 - val_loss: 0.0705 - val_acc: 0.9819\n",
            "Epoch 19/20\n",
            "60000/60000 [==============================] - 5s 87us/step - loss: 0.0135 - acc: 0.9956 - val_loss: 0.0718 - val_acc: 0.9808\n",
            "Epoch 20/20\n",
            "60000/60000 [==============================] - 5s 86us/step - loss: 0.0110 - acc: 0.9964 - val_loss: 0.0850 - val_acc: 0.9816\n"
          ],
          "name": "stdout"
        }
      ]
    },
    {
      "cell_type": "code",
      "metadata": {
        "id": "JCcJfUvfEOBk",
        "colab_type": "code",
        "outputId": "6fd2302c-9c94-4e14-f45a-8245b8d4f906",
        "colab": {
          "base_uri": "https://localhost:8080/",
          "height": 521
        }
      },
      "source": [
        "model.summary()"
      ],
      "execution_count": 0,
      "outputs": [
        {
          "output_type": "stream",
          "text": [
            "_________________________________________________________________\n",
            "Layer (type)                 Output Shape              Param #   \n",
            "=================================================================\n",
            "dense_103 (Dense)            (None, 645)               506325    \n",
            "_________________________________________________________________\n",
            "batch_normalization_33 (Batc (None, 645)               2580      \n",
            "_________________________________________________________________\n",
            "dense_104 (Dense)            (None, 516)               333336    \n",
            "_________________________________________________________________\n",
            "batch_normalization_34 (Batc (None, 516)               2064      \n",
            "_________________________________________________________________\n",
            "dense_105 (Dense)            (None, 387)               200079    \n",
            "_________________________________________________________________\n",
            "batch_normalization_35 (Batc (None, 387)               1548      \n",
            "_________________________________________________________________\n",
            "dense_106 (Dense)            (None, 258)               100104    \n",
            "_________________________________________________________________\n",
            "batch_normalization_36 (Batc (None, 258)               1032      \n",
            "_________________________________________________________________\n",
            "dense_107 (Dense)            (None, 129)               33411     \n",
            "_________________________________________________________________\n",
            "batch_normalization_37 (Batc (None, 129)               516       \n",
            "_________________________________________________________________\n",
            "dense_108 (Dense)            (None, 10)                1300      \n",
            "=================================================================\n",
            "Total params: 1,182,295\n",
            "Trainable params: 1,178,425\n",
            "Non-trainable params: 3,870\n",
            "_________________________________________________________________\n"
          ],
          "name": "stdout"
        }
      ]
    },
    {
      "cell_type": "code",
      "metadata": {
        "id": "ykIUEE0QEPf_",
        "colab_type": "code",
        "outputId": "aab8ad9b-95d1-4896-e1c4-e073a1f0531d",
        "colab": {
          "base_uri": "https://localhost:8080/",
          "height": 318
        }
      },
      "source": [
        "score = model.evaluate(X_test, Y_test, verbose=0) \n",
        "print('Test score:', score[0]) \n",
        "print('Test accuracy:', score[1])\n",
        "\n",
        "fig,ax = plt.subplots(1,1)\n",
        "ax.set_xlabel('epoch') ; ax.set_ylabel('Categorical Crossentropy Loss')\n",
        "\n",
        "# list of epoch numbers\n",
        "x = list(range(1,nb_epoch+1))\n",
        "\n",
        "# we will get val_loss and val_acc only when you pass the paramter validation_data\n",
        "# val_loss : validation loss\n",
        "# for each key in histrory.histrory we will have a list of length equal to number of epochs\n",
        "\n",
        "vy = history.history['val_loss']\n",
        "ty = history.history['loss']\n",
        "plt_dynamic(x, vy, ty, ax)    "
      ],
      "execution_count": 0,
      "outputs": [
        {
          "output_type": "stream",
          "text": [
            "Test score: 0.08501737653187884\n",
            "Test accuracy: 0.9816\n"
          ],
          "name": "stdout"
        },
        {
          "output_type": "display_data",
          "data": {
            "image/png": "[encoded data removed]",
            "text/plain": [
              "<Figure size 432x288 with 1 Axes>"
            ]
          },
          "metadata": {
            "tags": []
          }
        }
      ]
    },
    {
      "cell_type": "markdown",
      "metadata": {
        "id": "PvuGsch7EUhL",
        "colab_type": "text"
      },
      "source": [
        "## 784-645-516-387-258-129-10-SequentialModel + Dropout"
      ]
    },
    {
      "cell_type": "code",
      "metadata": {
        "id": "CPOe1MMdERnq",
        "colab_type": "code",
        "outputId": "ecbf9838-f846-4e82-f748-4295656c721d",
        "colab": {
          "base_uri": "https://localhost:8080/",
          "height": 729
        }
      },
      "source": [
        "# some model parameters\n",
        "# keras.optimizers.Adam(lr=0.001, beta_1=0.9, beta_2=0.999, epsilon=None, decay=0.0, amsgrad=False)\n",
        "output_dim = 10\n",
        "input_dim = X_train.shape[1]\n",
        "batch_size = 128 \n",
        "nb_epoch = 20\n",
        "model = Sequential()\n",
        "model.add(Dense(645, input_dim = 784, activation='relu'))\n",
        "model.add(Dropout(.5))\n",
        "model.add(Dense(516, input_dim = 645, activation='relu'))\n",
        "model.add(Dropout(.5))\n",
        "model.add(Dense(387, input_dim = 516, activation='relu'))\n",
        "model.add(Dropout(.5))\n",
        "model.add(Dense(258, input_dim = 387, activation='relu'))\n",
        "model.add(Dropout(.5))\n",
        "model.add(Dense(129, input_dim = 258, activation='relu'))\n",
        "model.add(Dropout(.5))\n",
        "model.add(Dense(10, input_dim = 129, activation='softmax'))\n",
        "model.compile(optimizer='adam', loss='categorical_crossentropy', metrics=['accuracy'])\n",
        "history = model.fit(X_train, Y_train, batch_size=batch_size, epochs=nb_epoch, verbose=1, validation_data=(X_test, Y_test))"
      ],
      "execution_count": 0,
      "outputs": [
        {
          "output_type": "stream",
          "text": [
            "Train on 60000 samples, validate on 10000 samples\n",
            "Epoch 1/20\n",
            "60000/60000 [==============================] - 7s 112us/step - loss: 0.7682 - acc: 0.7484 - val_loss: 0.1894 - val_acc: 0.9479\n",
            "Epoch 2/20\n",
            "60000/60000 [==============================] - 3s 48us/step - loss: 0.2753 - acc: 0.9287 - val_loss: 0.1421 - val_acc: 0.9630\n",
            "Epoch 3/20\n",
            "60000/60000 [==============================] - 3s 53us/step - loss: 0.2197 - acc: 0.9433 - val_loss: 0.1225 - val_acc: 0.9690\n",
            "Epoch 4/20\n",
            "60000/60000 [==============================] - 3s 56us/step - loss: 0.1921 - acc: 0.9512 - val_loss: 0.1075 - val_acc: 0.9703\n",
            "Epoch 5/20\n",
            "60000/60000 [==============================] - 3s 56us/step - loss: 0.1713 - acc: 0.9569 - val_loss: 0.1034 - val_acc: 0.9721\n",
            "Epoch 6/20\n",
            "60000/60000 [==============================] - 3s 50us/step - loss: 0.1567 - acc: 0.9607 - val_loss: 0.0923 - val_acc: 0.9745\n",
            "Epoch 7/20\n",
            "60000/60000 [==============================] - 3s 47us/step - loss: 0.1450 - acc: 0.9642 - val_loss: 0.0900 - val_acc: 0.9773\n",
            "Epoch 8/20\n",
            "60000/60000 [==============================] - 3s 48us/step - loss: 0.1365 - acc: 0.9655 - val_loss: 0.0996 - val_acc: 0.9764\n",
            "Epoch 9/20\n",
            "60000/60000 [==============================] - 3s 48us/step - loss: 0.1317 - acc: 0.9680 - val_loss: 0.0906 - val_acc: 0.9774\n",
            "Epoch 10/20\n",
            "60000/60000 [==============================] - 3s 48us/step - loss: 0.1218 - acc: 0.9705 - val_loss: 0.0900 - val_acc: 0.9766\n",
            "Epoch 11/20\n",
            "60000/60000 [==============================] - 3s 47us/step - loss: 0.1222 - acc: 0.9692 - val_loss: 0.0850 - val_acc: 0.9787\n",
            "Epoch 12/20\n",
            "60000/60000 [==============================] - 3s 48us/step - loss: 0.1138 - acc: 0.9724 - val_loss: 0.0903 - val_acc: 0.9773\n",
            "Epoch 13/20\n",
            "60000/60000 [==============================] - 3s 47us/step - loss: 0.1108 - acc: 0.9734 - val_loss: 0.0830 - val_acc: 0.9804\n",
            "Epoch 14/20\n",
            "60000/60000 [==============================] - 3s 48us/step - loss: 0.1042 - acc: 0.9736 - val_loss: 0.0912 - val_acc: 0.9798\n",
            "Epoch 15/20\n",
            "60000/60000 [==============================] - 3s 48us/step - loss: 0.1010 - acc: 0.9750 - val_loss: 0.0789 - val_acc: 0.9826\n",
            "Epoch 16/20\n",
            "60000/60000 [==============================] - 3s 47us/step - loss: 0.0964 - acc: 0.9759 - val_loss: 0.0820 - val_acc: 0.9821\n",
            "Epoch 17/20\n",
            "60000/60000 [==============================] - 3s 47us/step - loss: 0.0963 - acc: 0.9765 - val_loss: 0.0792 - val_acc: 0.9817\n",
            "Epoch 18/20\n",
            "60000/60000 [==============================] - 3s 51us/step - loss: 0.0947 - acc: 0.9764 - val_loss: 0.0798 - val_acc: 0.9821\n",
            "Epoch 19/20\n",
            "60000/60000 [==============================] - 3s 54us/step - loss: 0.0944 - acc: 0.9776 - val_loss: 0.0776 - val_acc: 0.9827\n",
            "Epoch 20/20\n",
            "60000/60000 [==============================] - 3s 54us/step - loss: 0.0861 - acc: 0.9785 - val_loss: 0.0771 - val_acc: 0.9837\n"
          ],
          "name": "stdout"
        }
      ]
    },
    {
      "cell_type": "code",
      "metadata": {
        "id": "IGWEGIuTEdnD",
        "colab_type": "code",
        "outputId": "e25bc13a-82b9-41ec-db8f-d12c66ae733d",
        "colab": {
          "base_uri": "https://localhost:8080/",
          "height": 521
        }
      },
      "source": [
        "model.summary()"
      ],
      "execution_count": 0,
      "outputs": [
        {
          "output_type": "stream",
          "text": [
            "_________________________________________________________________\n",
            "Layer (type)                 Output Shape              Param #   \n",
            "=================================================================\n",
            "dense_109 (Dense)            (None, 645)               506325    \n",
            "_________________________________________________________________\n",
            "dropout_29 (Dropout)         (None, 645)               0         \n",
            "_________________________________________________________________\n",
            "dense_110 (Dense)            (None, 516)               333336    \n",
            "_________________________________________________________________\n",
            "dropout_30 (Dropout)         (None, 516)               0         \n",
            "_________________________________________________________________\n",
            "dense_111 (Dense)            (None, 387)               200079    \n",
            "_________________________________________________________________\n",
            "dropout_31 (Dropout)         (None, 387)               0         \n",
            "_________________________________________________________________\n",
            "dense_112 (Dense)            (None, 258)               100104    \n",
            "_________________________________________________________________\n",
            "dropout_32 (Dropout)         (None, 258)               0         \n",
            "_________________________________________________________________\n",
            "dense_113 (Dense)            (None, 129)               33411     \n",
            "_________________________________________________________________\n",
            "dropout_33 (Dropout)         (None, 129)               0         \n",
            "_________________________________________________________________\n",
            "dense_114 (Dense)            (None, 10)                1300      \n",
            "=================================================================\n",
            "Total params: 1,174,555\n",
            "Trainable params: 1,174,555\n",
            "Non-trainable params: 0\n",
            "_________________________________________________________________\n"
          ],
          "name": "stdout"
        }
      ]
    },
    {
      "cell_type": "code",
      "metadata": {
        "id": "2OUh_ioNEfFT",
        "colab_type": "code",
        "outputId": "0590b4a8-978b-47be-9684-23179d06a3cc",
        "colab": {
          "base_uri": "https://localhost:8080/",
          "height": 318
        }
      },
      "source": [
        "score = model.evaluate(X_test, Y_test, verbose=0) \n",
        "print('Test score:', score[0]) \n",
        "print('Test accuracy:', score[1])\n",
        "\n",
        "fig,ax = plt.subplots(1,1)\n",
        "ax.set_xlabel('epoch') ; ax.set_ylabel('Categorical Crossentropy Loss')\n",
        "\n",
        "# list of epoch numbers\n",
        "x = list(range(1,nb_epoch+1))\n",
        "\n",
        "# we will get val_loss and val_acc only when you pass the paramter validation_data\n",
        "# val_loss : validation loss\n",
        "# for each key in histrory.histrory we will have a list of length equal to number of epochs\n",
        "\n",
        "vy = history.history['val_loss']\n",
        "ty = history.history['loss']\n",
        "plt_dynamic(x, vy, ty, ax)"
      ],
      "execution_count": 0,
      "outputs": [
        {
          "output_type": "stream",
          "text": [
            "Test score: 0.07709364176348153\n",
            "Test accuracy: 0.9837\n"
          ],
          "name": "stdout"
        },
        {
          "output_type": "display_data",
          "data": {
            "image/png": "[encoded data removed]",
            "text/plain": [
              "<Figure size 432x288 with 1 Axes>"
            ]
          },
          "metadata": {
            "tags": []
          }
        }
      ]
    },
    {
      "cell_type": "markdown",
      "metadata": {
        "id": "xWands15Ehpw",
        "colab_type": "text"
      },
      "source": [
        "## 784-645-516-387-258-129-10-SequentialModel + BN + dropout"
      ]
    },
    {
      "cell_type": "code",
      "metadata": {
        "id": "r4ScSe60EoMn",
        "colab_type": "code",
        "outputId": "a5e7c933-98be-4879-d3ab-0458781dc6bb",
        "colab": {
          "base_uri": "https://localhost:8080/",
          "height": 729
        }
      },
      "source": [
        "# some model parameters\n",
        "# keras.optimizers.Adam(lr=0.001, beta_1=0.9, beta_2=0.999, epsilon=None, decay=0.0, amsgrad=False)\n",
        "output_dim = 10\n",
        "input_dim = X_train.shape[1]\n",
        "batch_size = 128 \n",
        "nb_epoch = 20\n",
        "model = Sequential()\n",
        "model.add(Dense(645, input_dim = 784, activation='relu'))\n",
        "model.add(BatchNormalization())\n",
        "model.add(Dropout(.5))\n",
        "model.add(Dense(516, input_dim = 645, activation='relu'))\n",
        "model.add(BatchNormalization())\n",
        "model.add(Dropout(.5))\n",
        "model.add(Dense(387, input_dim = 516, activation='relu'))\n",
        "model.add(BatchNormalization())\n",
        "model.add(Dropout(.5))\n",
        "model.add(Dense(258, input_dim = 387, activation='relu'))\n",
        "model.add(BatchNormalization())\n",
        "model.add(Dropout(.5))\n",
        "model.add(Dense(129, input_dim = 258, activation='relu'))\n",
        "model.add(BatchNormalization())\n",
        "model.add(Dropout(.5))\n",
        "model.add(Dense(10, input_dim = 129, activation='softmax'))\n",
        "model.compile(optimizer='adam', loss='categorical_crossentropy', metrics=['accuracy'])\n",
        "history = model.fit(X_train, Y_train, batch_size=batch_size, epochs=nb_epoch, verbose=1, validation_data=(X_test, Y_test))"
      ],
      "execution_count": 0,
      "outputs": [
        {
          "output_type": "stream",
          "text": [
            "Train on 60000 samples, validate on 10000 samples\n",
            "Epoch 1/20\n",
            "60000/60000 [==============================] - 10s 172us/step - loss: 0.7401 - acc: 0.7751 - val_loss: 0.1834 - val_acc: 0.9470\n",
            "Epoch 2/20\n",
            "60000/60000 [==============================] - 5s 91us/step - loss: 0.2765 - acc: 0.9214 - val_loss: 0.1435 - val_acc: 0.9578\n",
            "Epoch 3/20\n",
            "60000/60000 [==============================] - 5s 91us/step - loss: 0.2084 - acc: 0.9404 - val_loss: 0.1134 - val_acc: 0.9680\n",
            "Epoch 4/20\n",
            "60000/60000 [==============================] - 5s 91us/step - loss: 0.1827 - acc: 0.9489 - val_loss: 0.1008 - val_acc: 0.9715\n",
            "Epoch 5/20\n",
            "60000/60000 [==============================] - 5s 91us/step - loss: 0.1612 - acc: 0.9547 - val_loss: 0.0933 - val_acc: 0.9726\n",
            "Epoch 6/20\n",
            "60000/60000 [==============================] - 6s 92us/step - loss: 0.1455 - acc: 0.9588 - val_loss: 0.0849 - val_acc: 0.9766\n",
            "Epoch 7/20\n",
            "60000/60000 [==============================] - 5s 91us/step - loss: 0.1332 - acc: 0.9625 - val_loss: 0.0817 - val_acc: 0.9776\n",
            "Epoch 8/20\n",
            "60000/60000 [==============================] - 5s 91us/step - loss: 0.1246 - acc: 0.9650 - val_loss: 0.0794 - val_acc: 0.9775\n",
            "Epoch 9/20\n",
            "60000/60000 [==============================] - 5s 91us/step - loss: 0.1230 - acc: 0.9649 - val_loss: 0.0826 - val_acc: 0.9773\n",
            "Epoch 10/20\n",
            "60000/60000 [==============================] - 6s 92us/step - loss: 0.1150 - acc: 0.9681 - val_loss: 0.0808 - val_acc: 0.9775\n",
            "Epoch 11/20\n",
            "60000/60000 [==============================] - 6s 92us/step - loss: 0.1082 - acc: 0.9696 - val_loss: 0.0725 - val_acc: 0.9792\n",
            "Epoch 12/20\n",
            "60000/60000 [==============================] - 6s 93us/step - loss: 0.1010 - acc: 0.9718 - val_loss: 0.0699 - val_acc: 0.9804\n",
            "Epoch 13/20\n",
            "60000/60000 [==============================] - 6s 104us/step - loss: 0.0963 - acc: 0.9730 - val_loss: 0.0694 - val_acc: 0.9803\n",
            "Epoch 14/20\n",
            "60000/60000 [==============================] - 6s 96us/step - loss: 0.0963 - acc: 0.9726 - val_loss: 0.0646 - val_acc: 0.9826\n",
            "Epoch 15/20\n",
            "60000/60000 [==============================] - 5s 91us/step - loss: 0.0911 - acc: 0.9745 - val_loss: 0.0661 - val_acc: 0.9815\n",
            "Epoch 16/20\n",
            "60000/60000 [==============================] - 5s 91us/step - loss: 0.0843 - acc: 0.9756 - val_loss: 0.0646 - val_acc: 0.9827\n",
            "Epoch 17/20\n",
            "60000/60000 [==============================] - 5s 92us/step - loss: 0.0860 - acc: 0.9755 - val_loss: 0.0570 - val_acc: 0.9849\n",
            "Epoch 18/20\n",
            "60000/60000 [==============================] - 5s 91us/step - loss: 0.0843 - acc: 0.9766 - val_loss: 0.0634 - val_acc: 0.9827\n",
            "Epoch 19/20\n",
            "60000/60000 [==============================] - 6s 92us/step - loss: 0.0755 - acc: 0.9793 - val_loss: 0.0592 - val_acc: 0.9839\n",
            "Epoch 20/20\n",
            "60000/60000 [==============================] - 5s 91us/step - loss: 0.0752 - acc: 0.9785 - val_loss: 0.0617 - val_acc: 0.9835\n"
          ],
          "name": "stdout"
        }
      ]
    },
    {
      "cell_type": "code",
      "metadata": {
        "id": "KaXt0AW-E2Sr",
        "colab_type": "code",
        "outputId": "a9a93b4a-bbfb-4696-9fb1-9b2a94ffdda4",
        "colab": {
          "base_uri": "https://localhost:8080/",
          "height": 694
        }
      },
      "source": [
        "model.summary()"
      ],
      "execution_count": 0,
      "outputs": [
        {
          "output_type": "stream",
          "text": [
            "_________________________________________________________________\n",
            "Layer (type)                 Output Shape              Param #   \n",
            "=================================================================\n",
            "dense_115 (Dense)            (None, 645)               506325    \n",
            "_________________________________________________________________\n",
            "batch_normalization_38 (Batc (None, 645)               2580      \n",
            "_________________________________________________________________\n",
            "dropout_34 (Dropout)         (None, 645)               0         \n",
            "_________________________________________________________________\n",
            "dense_116 (Dense)            (None, 516)               333336    \n",
            "_________________________________________________________________\n",
            "batch_normalization_39 (Batc (None, 516)               2064      \n",
            "_________________________________________________________________\n",
            "dropout_35 (Dropout)         (None, 516)               0         \n",
            "_________________________________________________________________\n",
            "dense_117 (Dense)            (None, 387)               200079    \n",
            "_________________________________________________________________\n",
            "batch_normalization_40 (Batc (None, 387)               1548      \n",
            "_________________________________________________________________\n",
            "dropout_36 (Dropout)         (None, 387)               0         \n",
            "_________________________________________________________________\n",
            "dense_118 (Dense)            (None, 258)               100104    \n",
            "_________________________________________________________________\n",
            "batch_normalization_41 (Batc (None, 258)               1032      \n",
            "_________________________________________________________________\n",
            "dropout_37 (Dropout)         (None, 258)               0         \n",
            "_________________________________________________________________\n",
            "dense_119 (Dense)            (None, 129)               33411     \n",
            "_________________________________________________________________\n",
            "batch_normalization_42 (Batc (None, 129)               516       \n",
            "_________________________________________________________________\n",
            "dropout_38 (Dropout)         (None, 129)               0         \n",
            "_________________________________________________________________\n",
            "dense_120 (Dense)            (None, 10)                1300      \n",
            "=================================================================\n",
            "Total params: 1,182,295\n",
            "Trainable params: 1,178,425\n",
            "Non-trainable params: 3,870\n",
            "_________________________________________________________________\n"
          ],
          "name": "stdout"
        }
      ]
    },
    {
      "cell_type": "code",
      "metadata": {
        "id": "vHKsT6ufE4cj",
        "colab_type": "code",
        "outputId": "acec024b-2cb2-4e23-a378-b6ff2f76a72b",
        "colab": {
          "base_uri": "https://localhost:8080/",
          "height": 318
        }
      },
      "source": [
        "score = model.evaluate(X_test, Y_test, verbose=0) \n",
        "print('Test score:', score[0]) \n",
        "print('Test accuracy:', score[1])\n",
        "\n",
        "fig,ax = plt.subplots(1,1)\n",
        "ax.set_xlabel('epoch') ; ax.set_ylabel('Categorical Crossentropy Loss')\n",
        "\n",
        "# list of epoch numbers\n",
        "x = list(range(1,nb_epoch+1))\n",
        "\n",
        "# we will get val_loss and val_acc only when you pass the paramter validation_data\n",
        "# val_loss : validation loss\n",
        "# for each key in histrory.histrory we will have a list of length equal to number of epochs\n",
        "\n",
        "vy = history.history['val_loss']\n",
        "ty = history.history['loss']\n",
        "plt_dynamic(x, vy, ty, ax)"
      ],
      "execution_count": 0,
      "outputs": [
        {
          "output_type": "stream",
          "text": [
            "Test score: 0.06173668301170692\n",
            "Test accuracy: 0.9835\n"
          ],
          "name": "stdout"
        },
        {
          "output_type": "display_data",
          "data": {
            "image/png": "[encoded data removed]",
            "text/plain": [
              "<Figure size 432x288 with 1 Axes>"
            ]
          },
          "metadata": {
            "tags": []
          }
        }
      ]
    },
    {
      "cell_type": "markdown",
      "metadata": {
        "id": "JG-YgANBKN4t",
        "colab_type": "text"
      },
      "source": [
        "# Conclusion"
      ]
    },
    {
      "cell_type": "code",
      "metadata": {
        "id": "c7S5YjduE7Ec",
        "colab_type": "code",
        "outputId": "12ef52ad-b580-4fea-e967-826207b44398",
        "colab": {
          "base_uri": "https://localhost:8080/",
          "height": 295
        }
      },
      "source": [
        "# Please compare all your models using Prettytable library\n",
        "from prettytable import PrettyTable\n",
        "x= PrettyTable()\n",
        "x.field_names= [\"No of Hidden Layer\", \"Activation Units in Hidden Layers\", \"BatchNormalization\", \"Dropout\", 'Test score', 'Test accuracy']\n",
        "x.add_row([2, '784-516-258-10', 'No', 'No', 0.10316445550172403, 0.98])\n",
        "x.add_row([2, '784-516-258-10', 'Yes', 'No', 0.0779808205377387, 0.9807])\n",
        "x.add_row([2, '784-516-258-10', 'No', 'Yes', 0.061835459499752866, 0.984])\n",
        "x.add_row([2, '784-516-258-10', 'Yes', 'Yes', 0.05232281187833869, 0.9845])\n",
        "x.add_row([3, '784-582-388-194-10', 'No', 'No', 0.08606561110741959, 0.9826])\n",
        "x.add_row([3, '784-582-388-194-10', 'Yes', 'No', 0.07521539941053489, 0.9822])\n",
        "x.add_row([3, '784-582-388-194-10', 'No', 'Yes', 0.06682071717691342, 0.9834])\n",
        "x.add_row([3, '784-582-388-194-10', 'Yes', 'Yes', 0.05983107085300144, 0.9835])\n",
        "x.add_row([5, '784-645-516-387-258-129-10', 'No', 'No', 0.092317029833065, 0.9806])\n",
        "x.add_row([5, '784-645-516-387-258-129-10', 'Yes', 'No', 0.08501737653187884, 0.9816])\n",
        "x.add_row([5, '784-645-516-387-258-129-10', 'No', 'Yes', 0.07709364176348153, 0.9837])\n",
        "x.add_row([5, '784-645-516-387-258-129-10', 'Yes', 'Yes', 0.06173668301170692, 0.9835])\n",
        "print(x)"
      ],
      "execution_count": 0,
      "outputs": [
        {
          "output_type": "stream",
          "text": [
            "+--------------------+-----------------------------------+--------------------+---------+----------------------+---------------+\n",
            "| No of Hidden Layer | Activation Units in Hidden Layers | BatchNormalization | Dropout |      Test score      | Test accuracy |\n",
            "+--------------------+-----------------------------------+--------------------+---------+----------------------+---------------+\n",
            "|         2          |           784-516-258-10          |         No         |    No   | 0.10316445550172403  |      0.98     |\n",
            "|         2          |           784-516-258-10          |        Yes         |    No   |  0.0779808205377387  |     0.9807    |\n",
            "|         2          |           784-516-258-10          |         No         |   Yes   | 0.061835459499752866 |     0.984     |\n",
            "|         2          |           784-516-258-10          |        Yes         |   Yes   | 0.05232281187833869  |     0.9845    |\n",
            "|         3          |         784-582-388-194-10        |         No         |    No   | 0.08606561110741959  |     0.9826    |\n",
            "|         3          |         784-582-388-194-10        |        Yes         |    No   | 0.07521539941053489  |     0.9822    |\n",
            "|         3          |         784-582-388-194-10        |         No         |   Yes   | 0.06682071717691342  |     0.9834    |\n",
            "|         3          |         784-582-388-194-10        |        Yes         |   Yes   | 0.05983107085300144  |     0.9835    |\n",
            "|         5          |     784-645-516-387-258-129-10    |         No         |    No   |  0.092317029833065   |     0.9806    |\n",
            "|         5          |     784-645-516-387-258-129-10    |        Yes         |    No   | 0.08501737653187884  |     0.9816    |\n",
            "|         5          |     784-645-516-387-258-129-10    |         No         |   Yes   | 0.07709364176348153  |     0.9837    |\n",
            "|         5          |     784-645-516-387-258-129-10    |        Yes         |   Yes   | 0.06173668301170692  |     0.9835    |\n",
            "+--------------------+-----------------------------------+--------------------+---------+----------------------+---------------+\n"
          ],
          "name": "stdout"
        }
      ]
    },
    {
      "cell_type": "code",
      "metadata": {
        "id": "t0vgfFH-Nx1a",
        "colab_type": "code",
        "colab": {}
      },
      "source": [
        ""
      ],
      "execution_count": 0,
      "outputs": []
    }
  ]
}